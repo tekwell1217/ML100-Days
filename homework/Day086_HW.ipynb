{
 "cells": [
  {
   "cell_type": "markdown",
   "metadata": {},
   "source": [
    "## Work\n",
    "1. 試比較 save_best_only 與否的差異\n",
    "2. 請僅存入將 save_weights_only 設定為 True, 並嘗試 reset ipynb 並將模型與權重重新建回並預測 x_test"
   ]
  },
  {
   "cell_type": "code",
   "execution_count": 1,
   "metadata": {
    "scrolled": true
   },
   "outputs": [
    {
     "name": "stderr",
     "output_type": "stream",
     "text": [
      "Using TensorFlow backend.\n"
     ]
    }
   ],
   "source": [
    "import os\n",
    "import keras\n",
    "\n",
    "# Disable GPU\n",
    "os.environ[\"CUDA_VISIBLE_DEVICES\"] = \"0\""
   ]
  },
  {
   "cell_type": "code",
   "execution_count": 2,
   "metadata": {
    "collapsed": true
   },
   "outputs": [],
   "source": [
    "train, test = keras.datasets.cifar10.load_data()"
   ]
  },
  {
   "cell_type": "code",
   "execution_count": 3,
   "metadata": {
    "collapsed": true
   },
   "outputs": [],
   "source": [
    "## 資料前處理\n",
    "def preproc_x(x, flatten=True):\n",
    "    x = x / 255.\n",
    "    if flatten:\n",
    "        x = x.reshape((len(x), -1))\n",
    "    return x\n",
    "\n",
    "def preproc_y(y, num_classes=10):\n",
    "    if y.shape[-1] == 1:\n",
    "        y = keras.utils.to_categorical(y, num_classes)\n",
    "    return y    "
   ]
  },
  {
   "cell_type": "code",
   "execution_count": 4,
   "metadata": {
    "collapsed": true
   },
   "outputs": [],
   "source": [
    "x_train, y_train = train\n",
    "x_test, y_test = test\n",
    "\n",
    "# Preproc the inputs\n",
    "x_train = preproc_x(x_train)\n",
    "x_test = preproc_x(x_test)\n",
    "\n",
    "# Preprc the outputs\n",
    "y_train = preproc_y(y_train)\n",
    "y_test = preproc_y(y_test)"
   ]
  },
  {
   "cell_type": "code",
   "execution_count": 5,
   "metadata": {
    "collapsed": true
   },
   "outputs": [],
   "source": [
    "from keras.layers import BatchNormalization\n",
    "def build_mlp(input_shape, output_units=10, num_neurons=[512, 256, 128]):\n",
    "    input_layer = keras.layers.Input(input_shape)\n",
    "    \n",
    "    for i, n_units in enumerate(num_neurons):\n",
    "        if i == 0:\n",
    "            x = keras.layers.Dense(units=n_units, \n",
    "                                   activation=\"relu\", \n",
    "                                   name=\"hidden_layer\"+str(i+1))(input_layer)\n",
    "            x = BatchNormalization()(x)\n",
    "        else:\n",
    "            x = keras.layers.Dense(units=n_units, \n",
    "                                   activation=\"relu\", \n",
    "                                   name=\"hidden_layer\"+str(i+1))(x)\n",
    "            x = BatchNormalization()(x)\n",
    "    \n",
    "    out = keras.layers.Dense(units=output_units, activation=\"softmax\", name=\"output\")(x)\n",
    "    \n",
    "    model = keras.models.Model(inputs=[input_layer], outputs=[out])\n",
    "    return model"
   ]
  },
  {
   "cell_type": "code",
   "execution_count": 6,
   "metadata": {
    "collapsed": true
   },
   "outputs": [],
   "source": [
    "## 超參數設定\n",
    "LEARNING_RATE = 1e-3\n",
    "EPOCHS = 50\n",
    "BATCH_SIZE = 1024\n",
    "MOMENTUM = 0.95"
   ]
  },
  {
   "cell_type": "code",
   "execution_count": 23,
   "metadata": {
    "collapsed": true
   },
   "outputs": [],
   "source": [
    "# 載入 Callbacks\n",
    "from keras.callbacks import ModelCheckpoint\n",
    "\n",
    "model_ckpt = ModelCheckpoint(filepath=\"./tmp.h5\", \n",
    "                             monitor=\"val_loss\", \n",
    "                             save_best_only=True)"
   ]
  },
  {
   "cell_type": "code",
   "execution_count": 24,
   "metadata": {
    "scrolled": true
   },
   "outputs": [
    {
     "name": "stdout",
     "output_type": "stream",
     "text": [
      "_________________________________________________________________\n",
      "Layer (type)                 Output Shape              Param #   \n",
      "=================================================================\n",
      "input_1 (InputLayer)         (None, 3072)              0         \n",
      "_________________________________________________________________\n",
      "hidden_layer1 (Dense)        (None, 512)               1573376   \n",
      "_________________________________________________________________\n",
      "batch_normalization_1 (Batch (None, 512)               2048      \n",
      "_________________________________________________________________\n",
      "hidden_layer2 (Dense)        (None, 256)               131328    \n",
      "_________________________________________________________________\n",
      "batch_normalization_2 (Batch (None, 256)               1024      \n",
      "_________________________________________________________________\n",
      "hidden_layer3 (Dense)        (None, 128)               32896     \n",
      "_________________________________________________________________\n",
      "batch_normalization_3 (Batch (None, 128)               512       \n",
      "_________________________________________________________________\n",
      "output (Dense)               (None, 10)                1290      \n",
      "=================================================================\n",
      "Total params: 1,742,474\n",
      "Trainable params: 1,740,682\n",
      "Non-trainable params: 1,792\n",
      "_________________________________________________________________\n",
      "Train on 50000 samples, validate on 10000 samples\n",
      "Epoch 1/50\n",
      "50000/50000 [==============================] - 1s 29us/step - loss: 2.2080 - acc: 0.2705 - val_loss: 2.0922 - val_acc: 0.3231\n",
      "Epoch 2/50\n",
      "50000/50000 [==============================] - 1s 20us/step - loss: 1.7545 - acc: 0.3891 - val_loss: 1.8268 - val_acc: 0.3780\n",
      "Epoch 3/50\n",
      "50000/50000 [==============================] - 1s 22us/step - loss: 1.6257 - acc: 0.4299 - val_loss: 1.7134 - val_acc: 0.4040\n",
      "Epoch 4/50\n",
      "50000/50000 [==============================] - 1s 21us/step - loss: 1.5502 - acc: 0.4565 - val_loss: 1.6322 - val_acc: 0.4296\n",
      "Epoch 5/50\n",
      "50000/50000 [==============================] - 1s 21us/step - loss: 1.4949 - acc: 0.4772 - val_loss: 1.6014 - val_acc: 0.4383\n",
      "Epoch 6/50\n",
      "50000/50000 [==============================] - 1s 21us/step - loss: 1.4483 - acc: 0.4935 - val_loss: 1.5783 - val_acc: 0.4430\n",
      "Epoch 7/50\n",
      "50000/50000 [==============================] - 1s 22us/step - loss: 1.4085 - acc: 0.5086 - val_loss: 1.5632 - val_acc: 0.4512\n",
      "Epoch 8/50\n",
      "50000/50000 [==============================] - 1s 21us/step - loss: 1.3735 - acc: 0.5211 - val_loss: 1.5322 - val_acc: 0.4590\n",
      "Epoch 9/50\n",
      "50000/50000 [==============================] - 1s 21us/step - loss: 1.3402 - acc: 0.5333 - val_loss: 1.5328 - val_acc: 0.4639\n",
      "Epoch 10/50\n",
      "50000/50000 [==============================] - 1s 20us/step - loss: 1.3120 - acc: 0.5441 - val_loss: 1.5082 - val_acc: 0.4738\n",
      "Epoch 11/50\n",
      "50000/50000 [==============================] - 1s 21us/step - loss: 1.2837 - acc: 0.5546 - val_loss: 1.4957 - val_acc: 0.4777\n",
      "Epoch 12/50\n",
      "50000/50000 [==============================] - 1s 20us/step - loss: 1.2576 - acc: 0.5632 - val_loss: 1.4902 - val_acc: 0.4771\n",
      "Epoch 13/50\n",
      "50000/50000 [==============================] - 1s 21us/step - loss: 1.2331 - acc: 0.5724 - val_loss: 1.4898 - val_acc: 0.4799\n",
      "Epoch 14/50\n",
      "50000/50000 [==============================] - 1s 21us/step - loss: 1.2082 - acc: 0.5830 - val_loss: 1.4791 - val_acc: 0.4838\n",
      "Epoch 15/50\n",
      "50000/50000 [==============================] - 1s 21us/step - loss: 1.1825 - acc: 0.5915 - val_loss: 1.4746 - val_acc: 0.4866\n",
      "Epoch 16/50\n",
      "50000/50000 [==============================] - 1s 20us/step - loss: 1.1603 - acc: 0.6009 - val_loss: 1.4689 - val_acc: 0.4871\n",
      "Epoch 17/50\n",
      "50000/50000 [==============================] - 1s 21us/step - loss: 1.1378 - acc: 0.6121 - val_loss: 1.4792 - val_acc: 0.4830\n",
      "Epoch 18/50\n",
      "50000/50000 [==============================] - 1s 21us/step - loss: 1.1144 - acc: 0.6187 - val_loss: 1.4737 - val_acc: 0.4872\n",
      "Epoch 19/50\n",
      "50000/50000 [==============================] - 1s 21us/step - loss: 1.0917 - acc: 0.6265 - val_loss: 1.4534 - val_acc: 0.4969\n",
      "Epoch 20/50\n",
      "50000/50000 [==============================] - 1s 20us/step - loss: 1.0696 - acc: 0.6350 - val_loss: 1.4604 - val_acc: 0.4907\n",
      "Epoch 21/50\n",
      "50000/50000 [==============================] - 1s 21us/step - loss: 1.0494 - acc: 0.6424 - val_loss: 1.4564 - val_acc: 0.4935\n",
      "Epoch 22/50\n",
      "50000/50000 [==============================] - 1s 21us/step - loss: 1.0284 - acc: 0.6517 - val_loss: 1.4553 - val_acc: 0.4971\n",
      "Epoch 23/50\n",
      "50000/50000 [==============================] - 1s 20us/step - loss: 1.0057 - acc: 0.6592 - val_loss: 1.4627 - val_acc: 0.4952\n",
      "Epoch 24/50\n",
      "47104/50000 [===========================>..] - ETA: 0s - loss: 0.9854 - acc: 0.6678"
     ]
    },
    {
     "ename": "KeyboardInterrupt",
     "evalue": "",
     "output_type": "error",
     "traceback": [
      "\u001b[0;31m---------------------------------------------------------------------------\u001b[0m",
      "\u001b[0;31mKeyboardInterrupt\u001b[0m                         Traceback (most recent call last)",
      "\u001b[0;32m<ipython-input-24-1f148841e545>\u001b[0m in \u001b[0;36m<module>\u001b[0;34m()\u001b[0m\n\u001b[1;32m      9\u001b[0m           \u001b[0mvalidation_data\u001b[0m\u001b[0;34m=\u001b[0m\u001b[0;34m(\u001b[0m\u001b[0mx_test\u001b[0m\u001b[0;34m,\u001b[0m \u001b[0my_test\u001b[0m\u001b[0;34m)\u001b[0m\u001b[0;34m,\u001b[0m\u001b[0;34m\u001b[0m\u001b[0m\n\u001b[1;32m     10\u001b[0m           \u001b[0mshuffle\u001b[0m\u001b[0;34m=\u001b[0m\u001b[0;32mTrue\u001b[0m\u001b[0;34m,\u001b[0m\u001b[0;34m\u001b[0m\u001b[0m\n\u001b[0;32m---> 11\u001b[0;31m           \u001b[0mcallbacks\u001b[0m\u001b[0;34m=\u001b[0m\u001b[0;34m[\u001b[0m\u001b[0mmodel_ckpt\u001b[0m\u001b[0;34m]\u001b[0m\u001b[0;34m\u001b[0m\u001b[0m\n\u001b[0m\u001b[1;32m     12\u001b[0m          )\n\u001b[1;32m     13\u001b[0m \u001b[0;34m\u001b[0m\u001b[0m\n",
      "\u001b[0;32m/home/tekwell/anaconda3/lib/python3.6/site-packages/keras/engine/training.py\u001b[0m in \u001b[0;36mfit\u001b[0;34m(self, x, y, batch_size, epochs, verbose, callbacks, validation_split, validation_data, shuffle, class_weight, sample_weight, initial_epoch, steps_per_epoch, validation_steps, **kwargs)\u001b[0m\n\u001b[1;32m   1703\u001b[0m                               \u001b[0minitial_epoch\u001b[0m\u001b[0;34m=\u001b[0m\u001b[0minitial_epoch\u001b[0m\u001b[0;34m,\u001b[0m\u001b[0;34m\u001b[0m\u001b[0m\n\u001b[1;32m   1704\u001b[0m                               \u001b[0msteps_per_epoch\u001b[0m\u001b[0;34m=\u001b[0m\u001b[0msteps_per_epoch\u001b[0m\u001b[0;34m,\u001b[0m\u001b[0;34m\u001b[0m\u001b[0m\n\u001b[0;32m-> 1705\u001b[0;31m                               validation_steps=validation_steps)\n\u001b[0m\u001b[1;32m   1706\u001b[0m \u001b[0;34m\u001b[0m\u001b[0m\n\u001b[1;32m   1707\u001b[0m     def evaluate(self, x=None, y=None,\n",
      "\u001b[0;32m/home/tekwell/anaconda3/lib/python3.6/site-packages/keras/engine/training.py\u001b[0m in \u001b[0;36m_fit_loop\u001b[0;34m(self, f, ins, out_labels, batch_size, epochs, verbose, callbacks, val_f, val_ins, shuffle, callback_metrics, initial_epoch, steps_per_epoch, validation_steps)\u001b[0m\n\u001b[1;32m   1248\u001b[0m                             val_outs = self._test_loop(val_f, val_ins,\n\u001b[1;32m   1249\u001b[0m                                                        \u001b[0mbatch_size\u001b[0m\u001b[0;34m=\u001b[0m\u001b[0mbatch_size\u001b[0m\u001b[0;34m,\u001b[0m\u001b[0;34m\u001b[0m\u001b[0m\n\u001b[0;32m-> 1250\u001b[0;31m                                                        verbose=0)\n\u001b[0m\u001b[1;32m   1251\u001b[0m                             \u001b[0;32mif\u001b[0m \u001b[0;32mnot\u001b[0m \u001b[0misinstance\u001b[0m\u001b[0;34m(\u001b[0m\u001b[0mval_outs\u001b[0m\u001b[0;34m,\u001b[0m \u001b[0mlist\u001b[0m\u001b[0;34m)\u001b[0m\u001b[0;34m:\u001b[0m\u001b[0;34m\u001b[0m\u001b[0m\n\u001b[1;32m   1252\u001b[0m                                 \u001b[0mval_outs\u001b[0m \u001b[0;34m=\u001b[0m \u001b[0;34m[\u001b[0m\u001b[0mval_outs\u001b[0m\u001b[0;34m]\u001b[0m\u001b[0;34m\u001b[0m\u001b[0m\n",
      "\u001b[0;32m/home/tekwell/anaconda3/lib/python3.6/site-packages/keras/engine/training.py\u001b[0m in \u001b[0;36m_test_loop\u001b[0;34m(self, f, ins, batch_size, verbose, steps)\u001b[0m\n\u001b[1;32m   1424\u001b[0m                     \u001b[0mins_batch\u001b[0m\u001b[0;34m[\u001b[0m\u001b[0mi\u001b[0m\u001b[0;34m]\u001b[0m \u001b[0;34m=\u001b[0m \u001b[0mins_batch\u001b[0m\u001b[0;34m[\u001b[0m\u001b[0mi\u001b[0m\u001b[0;34m]\u001b[0m\u001b[0;34m.\u001b[0m\u001b[0mtoarray\u001b[0m\u001b[0;34m(\u001b[0m\u001b[0;34m)\u001b[0m\u001b[0;34m\u001b[0m\u001b[0m\n\u001b[1;32m   1425\u001b[0m \u001b[0;34m\u001b[0m\u001b[0m\n\u001b[0;32m-> 1426\u001b[0;31m                 \u001b[0mbatch_outs\u001b[0m \u001b[0;34m=\u001b[0m \u001b[0mf\u001b[0m\u001b[0;34m(\u001b[0m\u001b[0mins_batch\u001b[0m\u001b[0;34m)\u001b[0m\u001b[0;34m\u001b[0m\u001b[0m\n\u001b[0m\u001b[1;32m   1427\u001b[0m                 \u001b[0;32mif\u001b[0m \u001b[0misinstance\u001b[0m\u001b[0;34m(\u001b[0m\u001b[0mbatch_outs\u001b[0m\u001b[0;34m,\u001b[0m \u001b[0mlist\u001b[0m\u001b[0;34m)\u001b[0m\u001b[0;34m:\u001b[0m\u001b[0;34m\u001b[0m\u001b[0m\n\u001b[1;32m   1428\u001b[0m                     \u001b[0;32mif\u001b[0m \u001b[0mbatch_index\u001b[0m \u001b[0;34m==\u001b[0m \u001b[0;36m0\u001b[0m\u001b[0;34m:\u001b[0m\u001b[0;34m\u001b[0m\u001b[0m\n",
      "\u001b[0;32m/home/tekwell/anaconda3/lib/python3.6/site-packages/keras/backend/tensorflow_backend.py\u001b[0m in \u001b[0;36m__call__\u001b[0;34m(self, inputs)\u001b[0m\n\u001b[1;32m   2480\u001b[0m         \u001b[0msession\u001b[0m \u001b[0;34m=\u001b[0m \u001b[0mget_session\u001b[0m\u001b[0;34m(\u001b[0m\u001b[0;34m)\u001b[0m\u001b[0;34m\u001b[0m\u001b[0m\n\u001b[1;32m   2481\u001b[0m         updated = session.run(fetches=fetches, feed_dict=feed_dict,\n\u001b[0;32m-> 2482\u001b[0;31m                               **self.session_kwargs)\n\u001b[0m\u001b[1;32m   2483\u001b[0m         \u001b[0;32mreturn\u001b[0m \u001b[0mupdated\u001b[0m\u001b[0;34m[\u001b[0m\u001b[0;34m:\u001b[0m\u001b[0mlen\u001b[0m\u001b[0;34m(\u001b[0m\u001b[0mself\u001b[0m\u001b[0;34m.\u001b[0m\u001b[0moutputs\u001b[0m\u001b[0;34m)\u001b[0m\u001b[0;34m]\u001b[0m\u001b[0;34m\u001b[0m\u001b[0m\n\u001b[1;32m   2484\u001b[0m \u001b[0;34m\u001b[0m\u001b[0m\n",
      "\u001b[0;32m/home/tekwell/anaconda3/lib/python3.6/site-packages/tensorflow/python/client/session.py\u001b[0m in \u001b[0;36mrun\u001b[0;34m(self, fetches, feed_dict, options, run_metadata)\u001b[0m\n\u001b[1;32m    903\u001b[0m     \u001b[0;32mtry\u001b[0m\u001b[0;34m:\u001b[0m\u001b[0;34m\u001b[0m\u001b[0m\n\u001b[1;32m    904\u001b[0m       result = self._run(None, fetches, feed_dict, options_ptr,\n\u001b[0;32m--> 905\u001b[0;31m                          run_metadata_ptr)\n\u001b[0m\u001b[1;32m    906\u001b[0m       \u001b[0;32mif\u001b[0m \u001b[0mrun_metadata\u001b[0m\u001b[0;34m:\u001b[0m\u001b[0;34m\u001b[0m\u001b[0m\n\u001b[1;32m    907\u001b[0m         \u001b[0mproto_data\u001b[0m \u001b[0;34m=\u001b[0m \u001b[0mtf_session\u001b[0m\u001b[0;34m.\u001b[0m\u001b[0mTF_GetBuffer\u001b[0m\u001b[0;34m(\u001b[0m\u001b[0mrun_metadata_ptr\u001b[0m\u001b[0;34m)\u001b[0m\u001b[0;34m\u001b[0m\u001b[0m\n",
      "\u001b[0;32m/home/tekwell/anaconda3/lib/python3.6/site-packages/tensorflow/python/client/session.py\u001b[0m in \u001b[0;36m_run\u001b[0;34m(self, handle, fetches, feed_dict, options, run_metadata)\u001b[0m\n\u001b[1;32m   1107\u001b[0m             \u001b[0mfeed_handles\u001b[0m\u001b[0;34m[\u001b[0m\u001b[0msubfeed_t\u001b[0m\u001b[0;34m]\u001b[0m \u001b[0;34m=\u001b[0m \u001b[0msubfeed_val\u001b[0m\u001b[0;34m\u001b[0m\u001b[0m\n\u001b[1;32m   1108\u001b[0m           \u001b[0;32melse\u001b[0m\u001b[0;34m:\u001b[0m\u001b[0;34m\u001b[0m\u001b[0m\n\u001b[0;32m-> 1109\u001b[0;31m             \u001b[0mnp_val\u001b[0m \u001b[0;34m=\u001b[0m \u001b[0mnp\u001b[0m\u001b[0;34m.\u001b[0m\u001b[0masarray\u001b[0m\u001b[0;34m(\u001b[0m\u001b[0msubfeed_val\u001b[0m\u001b[0;34m,\u001b[0m \u001b[0mdtype\u001b[0m\u001b[0;34m=\u001b[0m\u001b[0msubfeed_dtype\u001b[0m\u001b[0;34m)\u001b[0m\u001b[0;34m\u001b[0m\u001b[0m\n\u001b[0m\u001b[1;32m   1110\u001b[0m \u001b[0;34m\u001b[0m\u001b[0m\n\u001b[1;32m   1111\u001b[0m           if (not is_tensor_handle_feed and\n",
      "\u001b[0;32m/home/tekwell/anaconda3/lib/python3.6/site-packages/numpy/core/numeric.py\u001b[0m in \u001b[0;36masarray\u001b[0;34m(a, dtype, order)\u001b[0m\n\u001b[1;32m    536\u001b[0m \u001b[0;34m\u001b[0m\u001b[0m\n\u001b[1;32m    537\u001b[0m     \"\"\"\n\u001b[0;32m--> 538\u001b[0;31m     \u001b[0;32mreturn\u001b[0m \u001b[0marray\u001b[0m\u001b[0;34m(\u001b[0m\u001b[0ma\u001b[0m\u001b[0;34m,\u001b[0m \u001b[0mdtype\u001b[0m\u001b[0;34m,\u001b[0m \u001b[0mcopy\u001b[0m\u001b[0;34m=\u001b[0m\u001b[0;32mFalse\u001b[0m\u001b[0;34m,\u001b[0m \u001b[0morder\u001b[0m\u001b[0;34m=\u001b[0m\u001b[0morder\u001b[0m\u001b[0;34m)\u001b[0m\u001b[0;34m\u001b[0m\u001b[0m\n\u001b[0m\u001b[1;32m    539\u001b[0m \u001b[0;34m\u001b[0m\u001b[0m\n\u001b[1;32m    540\u001b[0m \u001b[0;34m\u001b[0m\u001b[0m\n",
      "\u001b[0;31mKeyboardInterrupt\u001b[0m: "
     ]
    }
   ],
   "source": [
    "model = build_mlp(input_shape=x_train.shape[1:])\n",
    "model.summary()\n",
    "optimizer = keras.optimizers.SGD(lr=LEARNING_RATE, nesterov=True, momentum=MOMENTUM)\n",
    "model.compile(loss=\"categorical_crossentropy\", metrics=[\"accuracy\"], optimizer=optimizer)\n",
    "\n",
    "model.fit(x_train, y_train, \n",
    "          epochs=EPOCHS, \n",
    "          batch_size=BATCH_SIZE, \n",
    "          validation_data=(x_test, y_test), \n",
    "          shuffle=True,\n",
    "          callbacks=[model_ckpt]\n",
    "         )\n",
    "\n",
    "# Collect results\n",
    "train_loss = model.history.history[\"loss\"]\n",
    "valid_loss = model.history.history[\"val_loss\"]\n",
    "train_acc = model.history.history[\"acc\"]\n",
    "valid_acc = model.history.history[\"val_acc\"]\n",
    "\n",
    "# Load back\n",
    "model = keras.models.load_model(\"./tmp.h5\")\n",
    "loss_loadback, acc_loadback = model.evaluate(x_test, y_test)"
   ]
  },
  {
   "cell_type": "markdown",
   "metadata": {},
   "source": [
    "# 故意只跑到23 epoch"
   ]
  },
  {
   "cell_type": "code",
   "execution_count": 25,
   "metadata": {},
   "outputs": [
    {
     "name": "stdout",
     "output_type": "stream",
     "text": [
      "10000/10000 [==============================] - 1s 67us/step\n"
     ]
    }
   ],
   "source": [
    "train_loss = model.history.history[\"loss\"]\n",
    "valid_loss = model.history.history[\"val_loss\"]\n",
    "train_acc = model.history.history[\"acc\"]\n",
    "valid_acc = model.history.history[\"val_acc\"]\n",
    "# Load back\n",
    "model = keras.models.load_model(\"./tmp.h5\")\n",
    "loss_loadback, acc_loadback = model.evaluate(x_test, y_test)"
   ]
  },
  {
   "cell_type": "code",
   "execution_count": 28,
   "metadata": {},
   "outputs": [
    {
     "data": {
      "image/png": "[encoded data removed]",
      "text/plain": [
       "<matplotlib.figure.Figure at 0x7f69bc3acf98>"
      ]
     },
     "metadata": {},
     "output_type": "display_data"
    },
    {
     "data": {
      "image/png": "[encoded data removed]",
      "text/plain": [
       "<matplotlib.figure.Figure at 0x7f69bd558048>"
      ]
     },
     "metadata": {},
     "output_type": "display_data"
    }
   ],
   "source": [
    "import matplotlib.pyplot as plt\n",
    "%matplotlib inline\n",
    "\n",
    "plt.plot(range(len(train_loss)), train_loss, label=\"train loss\")\n",
    "plt.plot(range(len(valid_loss)), valid_loss, label=\"valid loss\")\n",
    "plt.hlines(y=loss_loadback, xmin=0, xmax=len(train_loss), colors='r', linestyles='--')\n",
    "plt.legend()\n",
    "plt.title(\"Loss\")\n",
    "plt.show()\n",
    "\n",
    "plt.plot(range(len(train_acc)), train_acc, label=\"train accuracy\")\n",
    "plt.plot(range(len(valid_acc)), valid_acc, label=\"valid accuracy\")\n",
    "plt.hlines(y=acc_loadback, xmin=0, xmax=len(train_loss), colors='r', linestyles='--')\n",
    "plt.legend()\n",
    "plt.title(\"Accuracy\")\n",
    "plt.show()"
   ]
  },
  {
   "cell_type": "markdown",
   "metadata": {},
   "source": [
    "# 接著跑50個 epoch"
   ]
  },
  {
   "cell_type": "code",
   "execution_count": 27,
   "metadata": {},
   "outputs": [
    {
     "name": "stdout",
     "output_type": "stream",
     "text": [
      "Train on 50000 samples, validate on 10000 samples\n",
      "Epoch 1/50\n",
      "50000/50000 [==============================] - 1s 25us/step - loss: 1.0700 - acc: 0.6349 - val_loss: 1.4674 - val_acc: 0.4929\n",
      "Epoch 2/50\n",
      "50000/50000 [==============================] - 1s 20us/step - loss: 1.0493 - acc: 0.6433 - val_loss: 1.4623 - val_acc: 0.4951\n",
      "Epoch 3/50\n",
      "50000/50000 [==============================] - 1s 21us/step - loss: 1.0278 - acc: 0.6515 - val_loss: 1.4706 - val_acc: 0.4922\n",
      "Epoch 4/50\n",
      "50000/50000 [==============================] - 1s 20us/step - loss: 1.0078 - acc: 0.6593 - val_loss: 1.4574 - val_acc: 0.4961\n",
      "Epoch 5/50\n",
      "50000/50000 [==============================] - 1s 20us/step - loss: 0.9874 - acc: 0.6655 - val_loss: 1.4546 - val_acc: 0.4988\n",
      "Epoch 6/50\n",
      "50000/50000 [==============================] - 1s 20us/step - loss: 0.9663 - acc: 0.6751 - val_loss: 1.4709 - val_acc: 0.4947\n",
      "Epoch 7/50\n",
      "50000/50000 [==============================] - 1s 20us/step - loss: 0.9454 - acc: 0.6832 - val_loss: 1.4749 - val_acc: 0.4972\n",
      "Epoch 8/50\n",
      "50000/50000 [==============================] - 1s 20us/step - loss: 0.9262 - acc: 0.6911 - val_loss: 1.4690 - val_acc: 0.4952\n",
      "Epoch 9/50\n",
      "50000/50000 [==============================] - 1s 21us/step - loss: 0.9044 - acc: 0.7000 - val_loss: 1.4921 - val_acc: 0.4877\n",
      "Epoch 10/50\n",
      "50000/50000 [==============================] - 1s 20us/step - loss: 0.8861 - acc: 0.7062 - val_loss: 1.5022 - val_acc: 0.4917\n",
      "Epoch 11/50\n",
      "50000/50000 [==============================] - 1s 21us/step - loss: 0.8655 - acc: 0.7152 - val_loss: 1.4855 - val_acc: 0.4955\n",
      "Epoch 12/50\n",
      "50000/50000 [==============================] - 1s 20us/step - loss: 0.8457 - acc: 0.7227 - val_loss: 1.4921 - val_acc: 0.4965\n",
      "Epoch 13/50\n",
      "50000/50000 [==============================] - 1s 20us/step - loss: 0.8263 - acc: 0.7297 - val_loss: 1.4976 - val_acc: 0.4988\n",
      "Epoch 14/50\n",
      "50000/50000 [==============================] - 1s 21us/step - loss: 0.8096 - acc: 0.7373 - val_loss: 1.5101 - val_acc: 0.4930\n",
      "Epoch 15/50\n",
      "50000/50000 [==============================] - 1s 21us/step - loss: 0.7893 - acc: 0.7457 - val_loss: 1.5058 - val_acc: 0.4963\n",
      "Epoch 16/50\n",
      "50000/50000 [==============================] - 1s 20us/step - loss: 0.7698 - acc: 0.7533 - val_loss: 1.5151 - val_acc: 0.4973\n",
      "Epoch 17/50\n",
      "50000/50000 [==============================] - 1s 20us/step - loss: 0.7510 - acc: 0.7587 - val_loss: 1.5189 - val_acc: 0.4969\n",
      "Epoch 18/50\n",
      "50000/50000 [==============================] - 1s 21us/step - loss: 0.7339 - acc: 0.7660 - val_loss: 1.5371 - val_acc: 0.4892\n",
      "Epoch 19/50\n",
      "50000/50000 [==============================] - 1s 20us/step - loss: 0.7136 - acc: 0.7746 - val_loss: 1.5615 - val_acc: 0.4929\n",
      "Epoch 20/50\n",
      "50000/50000 [==============================] - 1s 21us/step - loss: 0.6959 - acc: 0.7815 - val_loss: 1.5521 - val_acc: 0.4957\n",
      "Epoch 21/50\n",
      "50000/50000 [==============================] - 1s 21us/step - loss: 0.6806 - acc: 0.7865 - val_loss: 1.5603 - val_acc: 0.4935\n",
      "Epoch 22/50\n",
      "50000/50000 [==============================] - 1s 20us/step - loss: 0.6606 - acc: 0.7949 - val_loss: 1.5851 - val_acc: 0.4922\n",
      "Epoch 23/50\n",
      "50000/50000 [==============================] - 1s 20us/step - loss: 0.6431 - acc: 0.8034 - val_loss: 1.5848 - val_acc: 0.4848\n",
      "Epoch 24/50\n",
      "50000/50000 [==============================] - 1s 20us/step - loss: 0.6263 - acc: 0.8086 - val_loss: 1.6164 - val_acc: 0.4869\n",
      "Epoch 25/50\n",
      "50000/50000 [==============================] - 1s 20us/step - loss: 0.6092 - acc: 0.8168 - val_loss: 1.6105 - val_acc: 0.4912\n",
      "Epoch 26/50\n",
      "50000/50000 [==============================] - 1s 21us/step - loss: 0.5909 - acc: 0.8231 - val_loss: 1.6181 - val_acc: 0.4906\n",
      "Epoch 27/50\n",
      "50000/50000 [==============================] - 1s 20us/step - loss: 0.5746 - acc: 0.8309 - val_loss: 1.6161 - val_acc: 0.4887\n",
      "Epoch 28/50\n",
      "50000/50000 [==============================] - 1s 21us/step - loss: 0.5594 - acc: 0.8363 - val_loss: 1.6498 - val_acc: 0.4843\n",
      "Epoch 29/50\n",
      "50000/50000 [==============================] - 1s 21us/step - loss: 0.5410 - acc: 0.8446 - val_loss: 1.6570 - val_acc: 0.4858\n",
      "Epoch 30/50\n",
      "50000/50000 [==============================] - 1s 20us/step - loss: 0.5270 - acc: 0.8497 - val_loss: 1.6564 - val_acc: 0.4843\n",
      "Epoch 31/50\n",
      "50000/50000 [==============================] - 1s 21us/step - loss: 0.5095 - acc: 0.8563 - val_loss: 1.6897 - val_acc: 0.4857\n",
      "Epoch 32/50\n",
      "50000/50000 [==============================] - 1s 21us/step - loss: 0.4939 - acc: 0.8614 - val_loss: 1.7051 - val_acc: 0.4800\n",
      "Epoch 33/50\n",
      "50000/50000 [==============================] - 1s 20us/step - loss: 0.4774 - acc: 0.8692 - val_loss: 1.6994 - val_acc: 0.4873\n",
      "Epoch 34/50\n",
      "50000/50000 [==============================] - 1s 20us/step - loss: 0.4637 - acc: 0.8759 - val_loss: 1.7369 - val_acc: 0.4831\n",
      "Epoch 35/50\n",
      "50000/50000 [==============================] - 1s 21us/step - loss: 0.4469 - acc: 0.8806 - val_loss: 1.7187 - val_acc: 0.4858\n",
      "Epoch 36/50\n",
      "50000/50000 [==============================] - 1s 20us/step - loss: 0.4306 - acc: 0.8878 - val_loss: 1.7393 - val_acc: 0.4842\n",
      "Epoch 37/50\n",
      "50000/50000 [==============================] - 1s 21us/step - loss: 0.4176 - acc: 0.8923 - val_loss: 1.7534 - val_acc: 0.4873\n",
      "Epoch 38/50\n",
      "50000/50000 [==============================] - 1s 21us/step - loss: 0.4030 - acc: 0.8984 - val_loss: 1.7940 - val_acc: 0.4814\n",
      "Epoch 39/50\n",
      "50000/50000 [==============================] - 1s 21us/step - loss: 0.3893 - acc: 0.9028 - val_loss: 1.8107 - val_acc: 0.4751\n",
      "Epoch 40/50\n",
      "50000/50000 [==============================] - 1s 21us/step - loss: 0.3762 - acc: 0.9078 - val_loss: 1.8106 - val_acc: 0.4790\n",
      "Epoch 41/50\n",
      "50000/50000 [==============================] - 1s 21us/step - loss: 0.3621 - acc: 0.9127 - val_loss: 1.8225 - val_acc: 0.4792\n",
      "Epoch 42/50\n",
      "50000/50000 [==============================] - 1s 21us/step - loss: 0.3495 - acc: 0.9173 - val_loss: 1.8180 - val_acc: 0.4845\n",
      "Epoch 43/50\n",
      "50000/50000 [==============================] - 1s 21us/step - loss: 0.3384 - acc: 0.9223 - val_loss: 1.8573 - val_acc: 0.4848\n",
      "Epoch 44/50\n",
      "50000/50000 [==============================] - 1s 21us/step - loss: 0.3256 - acc: 0.9260 - val_loss: 1.8611 - val_acc: 0.4827\n",
      "Epoch 45/50\n",
      "50000/50000 [==============================] - 1s 21us/step - loss: 0.3132 - acc: 0.9313 - val_loss: 1.9033 - val_acc: 0.4798\n",
      "Epoch 46/50\n",
      "50000/50000 [==============================] - 1s 21us/step - loss: 0.3009 - acc: 0.9352 - val_loss: 1.8753 - val_acc: 0.4785\n",
      "Epoch 47/50\n",
      "50000/50000 [==============================] - 1s 21us/step - loss: 0.2898 - acc: 0.9383 - val_loss: 1.9404 - val_acc: 0.4782\n",
      "Epoch 48/50\n",
      "50000/50000 [==============================] - 1s 20us/step - loss: 0.2776 - acc: 0.9442 - val_loss: 1.9377 - val_acc: 0.4808\n",
      "Epoch 49/50\n",
      "50000/50000 [==============================] - 1s 21us/step - loss: 0.2679 - acc: 0.9469 - val_loss: 1.9430 - val_acc: 0.4791\n",
      "Epoch 50/50\n",
      "50000/50000 [==============================] - 1s 21us/step - loss: 0.2566 - acc: 0.9508 - val_loss: 1.9616 - val_acc: 0.4814\n"
     ]
    },
    {
     "data": {
      "text/plain": [
       "<keras.callbacks.History at 0x7f69bc304b38>"
      ]
     },
     "execution_count": 27,
     "metadata": {},
     "output_type": "execute_result"
    }
   ],
   "source": [
    "model.fit(x_train, y_train, \n",
    "          epochs=EPOCHS, \n",
    "          batch_size=BATCH_SIZE, \n",
    "          validation_data=(x_test, y_test), \n",
    "          shuffle=True,\n",
    "          callbacks=[model_ckpt]\n",
    "         )"
   ]
  },
  {
   "cell_type": "code",
   "execution_count": 29,
   "metadata": {},
   "outputs": [
    {
     "name": "stdout",
     "output_type": "stream",
     "text": [
      "10000/10000 [==============================] - 1s 70us/step\n"
     ]
    },
    {
     "data": {
      "image/png": "[encoded data removed]",
      "text/plain": [
       "<matplotlib.figure.Figure at 0x7f69b864e320>"
      ]
     },
     "metadata": {},
     "output_type": "display_data"
    },
    {
     "data": {
      "image/png": "[encoded data removed]",
      "text/plain": [
       "<matplotlib.figure.Figure at 0x7f69bc4714a8>"
      ]
     },
     "metadata": {},
     "output_type": "display_data"
    }
   ],
   "source": [
    "train_loss = model.history.history[\"loss\"]\n",
    "valid_loss = model.history.history[\"val_loss\"]\n",
    "train_acc = model.history.history[\"acc\"]\n",
    "valid_acc = model.history.history[\"val_acc\"]\n",
    "# Load back\n",
    "model = keras.models.load_model(\"./tmp.h5\")\n",
    "loss_loadback, acc_loadback = model.evaluate(x_test, y_test)\n",
    "import matplotlib.pyplot as plt\n",
    "%matplotlib inline\n",
    "\n",
    "plt.plot(range(len(train_loss)), train_loss, label=\"train loss\")\n",
    "plt.plot(range(len(valid_loss)), valid_loss, label=\"valid loss\")\n",
    "plt.hlines(y=loss_loadback, xmin=0, xmax=len(train_loss), colors='r', linestyles='--')\n",
    "plt.legend()\n",
    "plt.title(\"Loss\")\n",
    "plt.show()\n",
    "\n",
    "plt.plot(range(len(train_acc)), train_acc, label=\"train accuracy\")\n",
    "plt.plot(range(len(valid_acc)), valid_acc, label=\"valid accuracy\")\n",
    "plt.hlines(y=acc_loadback, xmin=0, xmax=len(train_loss), colors='r', linestyles='--')\n",
    "plt.legend()\n",
    "plt.title(\"Accuracy\")\n",
    "plt.show()"
   ]
  },
  {
   "cell_type": "markdown",
   "metadata": {},
   "source": [
    "#  有沒有設定save_best_only 就是從最佳的參數重新開始\n",
    "# 還是從最後一個epoch開始"
   ]
  },
  {
   "cell_type": "markdown",
   "metadata": {},
   "source": [
    "# --------------------------------------------------------------------"
   ]
  },
  {
   "cell_type": "markdown",
   "metadata": {},
   "source": [
    "# 再來是看save_weights_only = True"
   ]
  },
  {
   "cell_type": "code",
   "execution_count": 49,
   "metadata": {
    "collapsed": true
   },
   "outputs": [],
   "source": [
    "keras.backend.clear_session()"
   ]
  },
  {
   "cell_type": "code",
   "execution_count": 50,
   "metadata": {
    "collapsed": true
   },
   "outputs": [],
   "source": [
    "model_ckpt = ModelCheckpoint(filepath=\"./tmp.h5\", \n",
    "                             monitor=\"val_loss\", \n",
    "                             save_best_only=True,save_weights_only = True)"
   ]
  },
  {
   "cell_type": "code",
   "execution_count": 51,
   "metadata": {
    "scrolled": true
   },
   "outputs": [
    {
     "name": "stdout",
     "output_type": "stream",
     "text": [
      "_________________________________________________________________\n",
      "Layer (type)                 Output Shape              Param #   \n",
      "=================================================================\n",
      "input_1 (InputLayer)         (None, 3072)              0         \n",
      "_________________________________________________________________\n",
      "hidden_layer1 (Dense)        (None, 512)               1573376   \n",
      "_________________________________________________________________\n",
      "batch_normalization_1 (Batch (None, 512)               2048      \n",
      "_________________________________________________________________\n",
      "hidden_layer2 (Dense)        (None, 256)               131328    \n",
      "_________________________________________________________________\n",
      "batch_normalization_2 (Batch (None, 256)               1024      \n",
      "_________________________________________________________________\n",
      "hidden_layer3 (Dense)        (None, 128)               32896     \n",
      "_________________________________________________________________\n",
      "batch_normalization_3 (Batch (None, 128)               512       \n",
      "_________________________________________________________________\n",
      "output (Dense)               (None, 10)                1290      \n",
      "=================================================================\n",
      "Total params: 1,742,474\n",
      "Trainable params: 1,740,682\n",
      "Non-trainable params: 1,792\n",
      "_________________________________________________________________\n",
      "Train on 50000 samples, validate on 10000 samples\n",
      "Epoch 1/50\n",
      "50000/50000 [==============================] - 1s 26us/step - loss: 2.1994 - acc: 0.2694 - val_loss: 2.1500 - val_acc: 0.3206\n",
      "Epoch 2/50\n",
      "50000/50000 [==============================] - 1s 18us/step - loss: 1.7452 - acc: 0.3926 - val_loss: 1.8296 - val_acc: 0.3738\n",
      "Epoch 3/50\n",
      "50000/50000 [==============================] - 1s 18us/step - loss: 1.6191 - acc: 0.4325 - val_loss: 1.7127 - val_acc: 0.4029\n",
      "Epoch 4/50\n",
      "50000/50000 [==============================] - 1s 18us/step - loss: 1.5448 - acc: 0.4579 - val_loss: 1.6322 - val_acc: 0.4271\n",
      "Epoch 5/50\n",
      "50000/50000 [==============================] - 1s 19us/step - loss: 1.4879 - acc: 0.4781 - val_loss: 1.6160 - val_acc: 0.4257\n",
      "Epoch 6/50\n",
      "50000/50000 [==============================] - 1s 18us/step - loss: 1.4416 - acc: 0.4960 - val_loss: 1.5745 - val_acc: 0.4467\n",
      "Epoch 7/50\n",
      "50000/50000 [==============================] - 1s 18us/step - loss: 1.4011 - acc: 0.5098 - val_loss: 1.5622 - val_acc: 0.4487\n",
      "Epoch 8/50\n",
      "50000/50000 [==============================] - 1s 18us/step - loss: 1.3667 - acc: 0.5211 - val_loss: 1.5397 - val_acc: 0.4557\n",
      "Epoch 9/50\n",
      "50000/50000 [==============================] - 1s 18us/step - loss: 1.3338 - acc: 0.5344 - val_loss: 1.5228 - val_acc: 0.4610\n",
      "Epoch 10/50\n",
      "50000/50000 [==============================] - 1s 18us/step - loss: 1.3048 - acc: 0.5445 - val_loss: 1.5171 - val_acc: 0.4609\n",
      "Epoch 11/50\n",
      "50000/50000 [==============================] - 1s 18us/step - loss: 1.2773 - acc: 0.5549 - val_loss: 1.5159 - val_acc: 0.4605\n",
      "Epoch 12/50\n",
      "50000/50000 [==============================] - 1s 18us/step - loss: 1.2511 - acc: 0.5641 - val_loss: 1.5003 - val_acc: 0.4654\n",
      "Epoch 13/50\n",
      "50000/50000 [==============================] - 1s 18us/step - loss: 1.2262 - acc: 0.5747 - val_loss: 1.4915 - val_acc: 0.4695\n",
      "Epoch 14/50\n",
      "50000/50000 [==============================] - 1s 18us/step - loss: 1.2000 - acc: 0.5823 - val_loss: 1.4805 - val_acc: 0.4763\n",
      "Epoch 15/50\n",
      "50000/50000 [==============================] - 1s 18us/step - loss: 1.1779 - acc: 0.5919 - val_loss: 1.4809 - val_acc: 0.4779\n",
      "Epoch 16/50\n",
      "50000/50000 [==============================] - 1s 18us/step - loss: 1.1539 - acc: 0.6016 - val_loss: 1.4751 - val_acc: 0.4821\n",
      "Epoch 17/50\n",
      "50000/50000 [==============================] - 1s 18us/step - loss: 1.1306 - acc: 0.6104 - val_loss: 1.4654 - val_acc: 0.4785\n",
      "Epoch 18/50\n",
      "50000/50000 [==============================] - 1s 18us/step - loss: 1.1088 - acc: 0.6195 - val_loss: 1.4681 - val_acc: 0.4841\n",
      "Epoch 19/50\n",
      "50000/50000 [==============================] - 1s 18us/step - loss: 1.0858 - acc: 0.6281 - val_loss: 1.4670 - val_acc: 0.4866\n",
      "Epoch 20/50\n",
      "50000/50000 [==============================] - 1s 18us/step - loss: 1.0653 - acc: 0.6344 - val_loss: 1.4761 - val_acc: 0.4801\n",
      "Epoch 21/50\n",
      "50000/50000 [==============================] - 1s 19us/step - loss: 1.0428 - acc: 0.6443 - val_loss: 1.4715 - val_acc: 0.4820\n",
      "Epoch 22/50\n",
      "50000/50000 [==============================] - 1s 18us/step - loss: 1.0221 - acc: 0.6520 - val_loss: 1.4695 - val_acc: 0.4859\n",
      "Epoch 23/50\n",
      "50000/50000 [==============================] - 1s 19us/step - loss: 1.0017 - acc: 0.6599 - val_loss: 1.4694 - val_acc: 0.4852\n",
      "Epoch 24/50\n",
      "19456/50000 [==========>...................] - ETA: 0s - loss: 0.9676 - acc: 0.6784"
     ]
    },
    {
     "ename": "KeyboardInterrupt",
     "evalue": "",
     "output_type": "error",
     "traceback": [
      "\u001b[0;31m---------------------------------------------------------------------------\u001b[0m",
      "\u001b[0;31mKeyboardInterrupt\u001b[0m                         Traceback (most recent call last)",
      "\u001b[0;32m<ipython-input-51-992f91989b65>\u001b[0m in \u001b[0;36m<module>\u001b[0;34m()\u001b[0m\n\u001b[1;32m      9\u001b[0m           \u001b[0mvalidation_data\u001b[0m\u001b[0;34m=\u001b[0m\u001b[0;34m(\u001b[0m\u001b[0mx_test\u001b[0m\u001b[0;34m,\u001b[0m \u001b[0my_test\u001b[0m\u001b[0;34m)\u001b[0m\u001b[0;34m,\u001b[0m\u001b[0;34m\u001b[0m\u001b[0m\n\u001b[1;32m     10\u001b[0m           \u001b[0mshuffle\u001b[0m\u001b[0;34m=\u001b[0m\u001b[0;32mTrue\u001b[0m\u001b[0;34m,\u001b[0m\u001b[0;34m\u001b[0m\u001b[0m\n\u001b[0;32m---> 11\u001b[0;31m           \u001b[0mcallbacks\u001b[0m\u001b[0;34m=\u001b[0m\u001b[0;34m[\u001b[0m\u001b[0mmodel_ckpt\u001b[0m\u001b[0;34m]\u001b[0m\u001b[0;34m\u001b[0m\u001b[0m\n\u001b[0m\u001b[1;32m     12\u001b[0m          )\n\u001b[1;32m     13\u001b[0m \u001b[0;34m\u001b[0m\u001b[0m\n",
      "\u001b[0;32m/home/tekwell/anaconda3/lib/python3.6/site-packages/keras/engine/training.py\u001b[0m in \u001b[0;36mfit\u001b[0;34m(self, x, y, batch_size, epochs, verbose, callbacks, validation_split, validation_data, shuffle, class_weight, sample_weight, initial_epoch, steps_per_epoch, validation_steps, **kwargs)\u001b[0m\n\u001b[1;32m   1703\u001b[0m                               \u001b[0minitial_epoch\u001b[0m\u001b[0;34m=\u001b[0m\u001b[0minitial_epoch\u001b[0m\u001b[0;34m,\u001b[0m\u001b[0;34m\u001b[0m\u001b[0m\n\u001b[1;32m   1704\u001b[0m                               \u001b[0msteps_per_epoch\u001b[0m\u001b[0;34m=\u001b[0m\u001b[0msteps_per_epoch\u001b[0m\u001b[0;34m,\u001b[0m\u001b[0;34m\u001b[0m\u001b[0m\n\u001b[0;32m-> 1705\u001b[0;31m                               validation_steps=validation_steps)\n\u001b[0m\u001b[1;32m   1706\u001b[0m \u001b[0;34m\u001b[0m\u001b[0m\n\u001b[1;32m   1707\u001b[0m     def evaluate(self, x=None, y=None,\n",
      "\u001b[0;32m/home/tekwell/anaconda3/lib/python3.6/site-packages/keras/engine/training.py\u001b[0m in \u001b[0;36m_fit_loop\u001b[0;34m(self, f, ins, out_labels, batch_size, epochs, verbose, callbacks, val_f, val_ins, shuffle, callback_metrics, initial_epoch, steps_per_epoch, validation_steps)\u001b[0m\n\u001b[1;32m   1234\u001b[0m                         \u001b[0mins_batch\u001b[0m\u001b[0;34m[\u001b[0m\u001b[0mi\u001b[0m\u001b[0;34m]\u001b[0m \u001b[0;34m=\u001b[0m \u001b[0mins_batch\u001b[0m\u001b[0;34m[\u001b[0m\u001b[0mi\u001b[0m\u001b[0;34m]\u001b[0m\u001b[0;34m.\u001b[0m\u001b[0mtoarray\u001b[0m\u001b[0;34m(\u001b[0m\u001b[0;34m)\u001b[0m\u001b[0;34m\u001b[0m\u001b[0m\n\u001b[1;32m   1235\u001b[0m \u001b[0;34m\u001b[0m\u001b[0m\n\u001b[0;32m-> 1236\u001b[0;31m                     \u001b[0mouts\u001b[0m \u001b[0;34m=\u001b[0m \u001b[0mf\u001b[0m\u001b[0;34m(\u001b[0m\u001b[0mins_batch\u001b[0m\u001b[0;34m)\u001b[0m\u001b[0;34m\u001b[0m\u001b[0m\n\u001b[0m\u001b[1;32m   1237\u001b[0m                     \u001b[0;32mif\u001b[0m \u001b[0;32mnot\u001b[0m \u001b[0misinstance\u001b[0m\u001b[0;34m(\u001b[0m\u001b[0mouts\u001b[0m\u001b[0;34m,\u001b[0m \u001b[0mlist\u001b[0m\u001b[0;34m)\u001b[0m\u001b[0;34m:\u001b[0m\u001b[0;34m\u001b[0m\u001b[0m\n\u001b[1;32m   1238\u001b[0m                         \u001b[0mouts\u001b[0m \u001b[0;34m=\u001b[0m \u001b[0;34m[\u001b[0m\u001b[0mouts\u001b[0m\u001b[0;34m]\u001b[0m\u001b[0;34m\u001b[0m\u001b[0m\n",
      "\u001b[0;32m/home/tekwell/anaconda3/lib/python3.6/site-packages/keras/backend/tensorflow_backend.py\u001b[0m in \u001b[0;36m__call__\u001b[0;34m(self, inputs)\u001b[0m\n\u001b[1;32m   2480\u001b[0m         \u001b[0msession\u001b[0m \u001b[0;34m=\u001b[0m \u001b[0mget_session\u001b[0m\u001b[0;34m(\u001b[0m\u001b[0;34m)\u001b[0m\u001b[0;34m\u001b[0m\u001b[0m\n\u001b[1;32m   2481\u001b[0m         updated = session.run(fetches=fetches, feed_dict=feed_dict,\n\u001b[0;32m-> 2482\u001b[0;31m                               **self.session_kwargs)\n\u001b[0m\u001b[1;32m   2483\u001b[0m         \u001b[0;32mreturn\u001b[0m \u001b[0mupdated\u001b[0m\u001b[0;34m[\u001b[0m\u001b[0;34m:\u001b[0m\u001b[0mlen\u001b[0m\u001b[0;34m(\u001b[0m\u001b[0mself\u001b[0m\u001b[0;34m.\u001b[0m\u001b[0moutputs\u001b[0m\u001b[0;34m)\u001b[0m\u001b[0;34m]\u001b[0m\u001b[0;34m\u001b[0m\u001b[0m\n\u001b[1;32m   2484\u001b[0m \u001b[0;34m\u001b[0m\u001b[0m\n",
      "\u001b[0;32m/home/tekwell/anaconda3/lib/python3.6/site-packages/tensorflow/python/client/session.py\u001b[0m in \u001b[0;36mrun\u001b[0;34m(self, fetches, feed_dict, options, run_metadata)\u001b[0m\n\u001b[1;32m    903\u001b[0m     \u001b[0;32mtry\u001b[0m\u001b[0;34m:\u001b[0m\u001b[0;34m\u001b[0m\u001b[0m\n\u001b[1;32m    904\u001b[0m       result = self._run(None, fetches, feed_dict, options_ptr,\n\u001b[0;32m--> 905\u001b[0;31m                          run_metadata_ptr)\n\u001b[0m\u001b[1;32m    906\u001b[0m       \u001b[0;32mif\u001b[0m \u001b[0mrun_metadata\u001b[0m\u001b[0;34m:\u001b[0m\u001b[0;34m\u001b[0m\u001b[0m\n\u001b[1;32m    907\u001b[0m         \u001b[0mproto_data\u001b[0m \u001b[0;34m=\u001b[0m \u001b[0mtf_session\u001b[0m\u001b[0;34m.\u001b[0m\u001b[0mTF_GetBuffer\u001b[0m\u001b[0;34m(\u001b[0m\u001b[0mrun_metadata_ptr\u001b[0m\u001b[0;34m)\u001b[0m\u001b[0;34m\u001b[0m\u001b[0m\n",
      "\u001b[0;32m/home/tekwell/anaconda3/lib/python3.6/site-packages/tensorflow/python/client/session.py\u001b[0m in \u001b[0;36m_run\u001b[0;34m(self, handle, fetches, feed_dict, options, run_metadata)\u001b[0m\n\u001b[1;32m   1138\u001b[0m     \u001b[0;32mif\u001b[0m \u001b[0mfinal_fetches\u001b[0m \u001b[0;32mor\u001b[0m \u001b[0mfinal_targets\u001b[0m \u001b[0;32mor\u001b[0m \u001b[0;34m(\u001b[0m\u001b[0mhandle\u001b[0m \u001b[0;32mand\u001b[0m \u001b[0mfeed_dict_tensor\u001b[0m\u001b[0;34m)\u001b[0m\u001b[0;34m:\u001b[0m\u001b[0;34m\u001b[0m\u001b[0m\n\u001b[1;32m   1139\u001b[0m       results = self._do_run(handle, final_targets, final_fetches,\n\u001b[0;32m-> 1140\u001b[0;31m                              feed_dict_tensor, options, run_metadata)\n\u001b[0m\u001b[1;32m   1141\u001b[0m     \u001b[0;32melse\u001b[0m\u001b[0;34m:\u001b[0m\u001b[0;34m\u001b[0m\u001b[0m\n\u001b[1;32m   1142\u001b[0m       \u001b[0mresults\u001b[0m \u001b[0;34m=\u001b[0m \u001b[0;34m[\u001b[0m\u001b[0;34m]\u001b[0m\u001b[0;34m\u001b[0m\u001b[0m\n",
      "\u001b[0;32m/home/tekwell/anaconda3/lib/python3.6/site-packages/tensorflow/python/client/session.py\u001b[0m in \u001b[0;36m_do_run\u001b[0;34m(self, handle, target_list, fetch_list, feed_dict, options, run_metadata)\u001b[0m\n\u001b[1;32m   1319\u001b[0m     \u001b[0;32mif\u001b[0m \u001b[0mhandle\u001b[0m \u001b[0;32mis\u001b[0m \u001b[0;32mNone\u001b[0m\u001b[0;34m:\u001b[0m\u001b[0;34m\u001b[0m\u001b[0m\n\u001b[1;32m   1320\u001b[0m       return self._do_call(_run_fn, feeds, fetches, targets, options,\n\u001b[0;32m-> 1321\u001b[0;31m                            run_metadata)\n\u001b[0m\u001b[1;32m   1322\u001b[0m     \u001b[0;32melse\u001b[0m\u001b[0;34m:\u001b[0m\u001b[0;34m\u001b[0m\u001b[0m\n\u001b[1;32m   1323\u001b[0m       \u001b[0;32mreturn\u001b[0m \u001b[0mself\u001b[0m\u001b[0;34m.\u001b[0m\u001b[0m_do_call\u001b[0m\u001b[0;34m(\u001b[0m\u001b[0m_prun_fn\u001b[0m\u001b[0;34m,\u001b[0m \u001b[0mhandle\u001b[0m\u001b[0;34m,\u001b[0m \u001b[0mfeeds\u001b[0m\u001b[0;34m,\u001b[0m \u001b[0mfetches\u001b[0m\u001b[0;34m)\u001b[0m\u001b[0;34m\u001b[0m\u001b[0m\n",
      "\u001b[0;32m/home/tekwell/anaconda3/lib/python3.6/site-packages/tensorflow/python/client/session.py\u001b[0m in \u001b[0;36m_do_call\u001b[0;34m(self, fn, *args)\u001b[0m\n\u001b[1;32m   1325\u001b[0m   \u001b[0;32mdef\u001b[0m \u001b[0m_do_call\u001b[0m\u001b[0;34m(\u001b[0m\u001b[0mself\u001b[0m\u001b[0;34m,\u001b[0m \u001b[0mfn\u001b[0m\u001b[0;34m,\u001b[0m \u001b[0;34m*\u001b[0m\u001b[0margs\u001b[0m\u001b[0;34m)\u001b[0m\u001b[0;34m:\u001b[0m\u001b[0;34m\u001b[0m\u001b[0m\n\u001b[1;32m   1326\u001b[0m     \u001b[0;32mtry\u001b[0m\u001b[0;34m:\u001b[0m\u001b[0;34m\u001b[0m\u001b[0m\n\u001b[0;32m-> 1327\u001b[0;31m       \u001b[0;32mreturn\u001b[0m \u001b[0mfn\u001b[0m\u001b[0;34m(\u001b[0m\u001b[0;34m*\u001b[0m\u001b[0margs\u001b[0m\u001b[0;34m)\u001b[0m\u001b[0;34m\u001b[0m\u001b[0m\n\u001b[0m\u001b[1;32m   1328\u001b[0m     \u001b[0;32mexcept\u001b[0m \u001b[0merrors\u001b[0m\u001b[0;34m.\u001b[0m\u001b[0mOpError\u001b[0m \u001b[0;32mas\u001b[0m \u001b[0me\u001b[0m\u001b[0;34m:\u001b[0m\u001b[0;34m\u001b[0m\u001b[0m\n\u001b[1;32m   1329\u001b[0m       \u001b[0mmessage\u001b[0m \u001b[0;34m=\u001b[0m \u001b[0mcompat\u001b[0m\u001b[0;34m.\u001b[0m\u001b[0mas_text\u001b[0m\u001b[0;34m(\u001b[0m\u001b[0me\u001b[0m\u001b[0;34m.\u001b[0m\u001b[0mmessage\u001b[0m\u001b[0;34m)\u001b[0m\u001b[0;34m\u001b[0m\u001b[0m\n",
      "\u001b[0;32m/home/tekwell/anaconda3/lib/python3.6/site-packages/tensorflow/python/client/session.py\u001b[0m in \u001b[0;36m_run_fn\u001b[0;34m(feed_dict, fetch_list, target_list, options, run_metadata)\u001b[0m\n\u001b[1;32m   1310\u001b[0m       \u001b[0mself\u001b[0m\u001b[0;34m.\u001b[0m\u001b[0m_extend_graph\u001b[0m\u001b[0;34m(\u001b[0m\u001b[0;34m)\u001b[0m\u001b[0;34m\u001b[0m\u001b[0m\n\u001b[1;32m   1311\u001b[0m       return self._call_tf_sessionrun(\n\u001b[0;32m-> 1312\u001b[0;31m           options, feed_dict, fetch_list, target_list, run_metadata)\n\u001b[0m\u001b[1;32m   1313\u001b[0m \u001b[0;34m\u001b[0m\u001b[0m\n\u001b[1;32m   1314\u001b[0m     \u001b[0;32mdef\u001b[0m \u001b[0m_prun_fn\u001b[0m\u001b[0;34m(\u001b[0m\u001b[0mhandle\u001b[0m\u001b[0;34m,\u001b[0m \u001b[0mfeed_dict\u001b[0m\u001b[0;34m,\u001b[0m \u001b[0mfetch_list\u001b[0m\u001b[0;34m)\u001b[0m\u001b[0;34m:\u001b[0m\u001b[0;34m\u001b[0m\u001b[0m\n",
      "\u001b[0;32m/home/tekwell/anaconda3/lib/python3.6/site-packages/tensorflow/python/client/session.py\u001b[0m in \u001b[0;36m_call_tf_sessionrun\u001b[0;34m(self, options, feed_dict, fetch_list, target_list, run_metadata)\u001b[0m\n\u001b[1;32m   1418\u001b[0m         return tf_session.TF_Run(\n\u001b[1;32m   1419\u001b[0m             \u001b[0mself\u001b[0m\u001b[0;34m.\u001b[0m\u001b[0m_session\u001b[0m\u001b[0;34m,\u001b[0m \u001b[0moptions\u001b[0m\u001b[0;34m,\u001b[0m \u001b[0mfeed_dict\u001b[0m\u001b[0;34m,\u001b[0m \u001b[0mfetch_list\u001b[0m\u001b[0;34m,\u001b[0m \u001b[0mtarget_list\u001b[0m\u001b[0;34m,\u001b[0m\u001b[0;34m\u001b[0m\u001b[0m\n\u001b[0;32m-> 1420\u001b[0;31m             status, run_metadata)\n\u001b[0m\u001b[1;32m   1421\u001b[0m \u001b[0;34m\u001b[0m\u001b[0m\n\u001b[1;32m   1422\u001b[0m   \u001b[0;32mdef\u001b[0m \u001b[0m_call_tf_sessionprun\u001b[0m\u001b[0;34m(\u001b[0m\u001b[0mself\u001b[0m\u001b[0;34m,\u001b[0m \u001b[0mhandle\u001b[0m\u001b[0;34m,\u001b[0m \u001b[0mfeed_dict\u001b[0m\u001b[0;34m,\u001b[0m \u001b[0mfetch_list\u001b[0m\u001b[0;34m)\u001b[0m\u001b[0;34m:\u001b[0m\u001b[0;34m\u001b[0m\u001b[0m\n",
      "\u001b[0;31mKeyboardInterrupt\u001b[0m: "
     ]
    }
   ],
   "source": [
    "model = build_mlp(input_shape=x_train.shape[1:])\n",
    "model.summary()\n",
    "optimizer = keras.optimizers.SGD(lr=LEARNING_RATE, nesterov=True, momentum=MOMENTUM)\n",
    "model.compile(loss=\"categorical_crossentropy\", metrics=[\"accuracy\"], optimizer=optimizer)\n",
    "\n",
    "model.fit(x_train, y_train, \n",
    "          epochs=EPOCHS, \n",
    "          batch_size=BATCH_SIZE, \n",
    "          validation_data=(x_test, y_test), \n",
    "          shuffle=True,\n",
    "          callbacks=[model_ckpt]\n",
    "         )\n",
    "\n"
   ]
  },
  {
   "cell_type": "code",
   "execution_count": 52,
   "metadata": {},
   "outputs": [
    {
     "ename": "ValueError",
     "evalue": "No model found in config file.",
     "output_type": "error",
     "traceback": [
      "\u001b[0;31m---------------------------------------------------------------------------\u001b[0m",
      "\u001b[0;31mValueError\u001b[0m                                Traceback (most recent call last)",
      "\u001b[0;32m<ipython-input-52-b2bf23bca20e>\u001b[0m in \u001b[0;36m<module>\u001b[0;34m()\u001b[0m\n\u001b[1;32m      6\u001b[0m \u001b[0;34m\u001b[0m\u001b[0m\n\u001b[1;32m      7\u001b[0m \u001b[0;31m# Load back\u001b[0m\u001b[0;34m\u001b[0m\u001b[0;34m\u001b[0m\u001b[0m\n\u001b[0;32m----> 8\u001b[0;31m \u001b[0mmodel\u001b[0m \u001b[0;34m=\u001b[0m \u001b[0mkeras\u001b[0m\u001b[0;34m.\u001b[0m\u001b[0mmodels\u001b[0m\u001b[0;34m.\u001b[0m\u001b[0mload_model\u001b[0m\u001b[0;34m(\u001b[0m\u001b[0;34m\"./tmp.h5\"\u001b[0m\u001b[0;34m)\u001b[0m\u001b[0;34m\u001b[0m\u001b[0m\n\u001b[0m\u001b[1;32m      9\u001b[0m \u001b[0mloss_loadback\u001b[0m\u001b[0;34m,\u001b[0m \u001b[0macc_loadback\u001b[0m \u001b[0;34m=\u001b[0m \u001b[0mmodel\u001b[0m\u001b[0;34m.\u001b[0m\u001b[0mevaluate\u001b[0m\u001b[0;34m(\u001b[0m\u001b[0mx_test\u001b[0m\u001b[0;34m,\u001b[0m \u001b[0my_test\u001b[0m\u001b[0;34m)\u001b[0m\u001b[0;34m\u001b[0m\u001b[0m\n\u001b[1;32m     10\u001b[0m \u001b[0;32mimport\u001b[0m \u001b[0mmatplotlib\u001b[0m\u001b[0;34m.\u001b[0m\u001b[0mpyplot\u001b[0m \u001b[0;32mas\u001b[0m \u001b[0mplt\u001b[0m\u001b[0;34m\u001b[0m\u001b[0m\n",
      "\u001b[0;32m/home/tekwell/anaconda3/lib/python3.6/site-packages/keras/models.py\u001b[0m in \u001b[0;36mload_model\u001b[0;34m(filepath, custom_objects, compile)\u001b[0m\n\u001b[1;32m    266\u001b[0m         \u001b[0mmodel_config\u001b[0m \u001b[0;34m=\u001b[0m \u001b[0mf\u001b[0m\u001b[0;34m.\u001b[0m\u001b[0mattrs\u001b[0m\u001b[0;34m.\u001b[0m\u001b[0mget\u001b[0m\u001b[0;34m(\u001b[0m\u001b[0;34m'model_config'\u001b[0m\u001b[0;34m)\u001b[0m\u001b[0;34m\u001b[0m\u001b[0m\n\u001b[1;32m    267\u001b[0m         \u001b[0;32mif\u001b[0m \u001b[0mmodel_config\u001b[0m \u001b[0;32mis\u001b[0m \u001b[0;32mNone\u001b[0m\u001b[0;34m:\u001b[0m\u001b[0;34m\u001b[0m\u001b[0m\n\u001b[0;32m--> 268\u001b[0;31m             \u001b[0;32mraise\u001b[0m \u001b[0mValueError\u001b[0m\u001b[0;34m(\u001b[0m\u001b[0;34m'No model found in config file.'\u001b[0m\u001b[0;34m)\u001b[0m\u001b[0;34m\u001b[0m\u001b[0m\n\u001b[0m\u001b[1;32m    269\u001b[0m         \u001b[0mmodel_config\u001b[0m \u001b[0;34m=\u001b[0m \u001b[0mjson\u001b[0m\u001b[0;34m.\u001b[0m\u001b[0mloads\u001b[0m\u001b[0;34m(\u001b[0m\u001b[0mmodel_config\u001b[0m\u001b[0;34m.\u001b[0m\u001b[0mdecode\u001b[0m\u001b[0;34m(\u001b[0m\u001b[0;34m'utf-8'\u001b[0m\u001b[0;34m)\u001b[0m\u001b[0;34m)\u001b[0m\u001b[0;34m\u001b[0m\u001b[0m\n\u001b[1;32m    270\u001b[0m         \u001b[0mmodel\u001b[0m \u001b[0;34m=\u001b[0m \u001b[0mmodel_from_config\u001b[0m\u001b[0;34m(\u001b[0m\u001b[0mmodel_config\u001b[0m\u001b[0;34m,\u001b[0m \u001b[0mcustom_objects\u001b[0m\u001b[0;34m=\u001b[0m\u001b[0mcustom_objects\u001b[0m\u001b[0;34m)\u001b[0m\u001b[0;34m\u001b[0m\u001b[0m\n",
      "\u001b[0;31mValueError\u001b[0m: No model found in config file."
     ]
    }
   ],
   "source": [
    "# Collect results\n",
    "train_loss = model.history.history[\"loss\"]\n",
    "valid_loss = model.history.history[\"val_loss\"]\n",
    "train_acc = model.history.history[\"acc\"]\n",
    "valid_acc = model.history.history[\"val_acc\"]\n",
    "\n",
    "# Load back\n",
    "model = keras.models.load_model(\"./tmp.h5\")\n",
    "loss_loadback, acc_loadback = model.evaluate(x_test, y_test)\n",
    "import matplotlib.pyplot as plt\n",
    "%matplotlib inline\n",
    "\n",
    "plt.plot(range(len(train_loss)), train_loss, label=\"train loss\")\n",
    "plt.plot(range(len(valid_loss)), valid_loss, label=\"valid loss\")\n",
    "plt.hlines(y=loss_loadback, xmin=0, xmax=len(train_loss), colors='r', linestyles='--')\n",
    "plt.legend()\n",
    "plt.title(\"Loss\")\n",
    "plt.show()\n",
    "\n",
    "plt.plot(range(len(train_acc)), train_acc, label=\"train accuracy\")\n",
    "plt.plot(range(len(valid_acc)), valid_acc, label=\"valid accuracy\")\n",
    "plt.hlines(y=acc_loadback, xmin=0, xmax=len(train_loss), colors='r', linestyles='--')\n",
    "plt.legend()\n",
    "plt.title(\"Accuracy\")\n",
    "plt.show()"
   ]
  },
  {
   "cell_type": "code",
   "execution_count": 55,
   "metadata": {},
   "outputs": [
    {
     "data": {
      "text/plain": [
       "[<tf.Variable 'hidden_layer1/kernel:0' shape=(3072, 512) dtype=float32_ref>,\n",
       " <tf.Variable 'hidden_layer1/bias:0' shape=(512,) dtype=float32_ref>,\n",
       " <tf.Variable 'batch_normalization_1/gamma:0' shape=(512,) dtype=float32_ref>,\n",
       " <tf.Variable 'batch_normalization_1/beta:0' shape=(512,) dtype=float32_ref>,\n",
       " <tf.Variable 'hidden_layer2/kernel:0' shape=(512, 256) dtype=float32_ref>,\n",
       " <tf.Variable 'hidden_layer2/bias:0' shape=(256,) dtype=float32_ref>,\n",
       " <tf.Variable 'batch_normalization_2/gamma:0' shape=(256,) dtype=float32_ref>,\n",
       " <tf.Variable 'batch_normalization_2/beta:0' shape=(256,) dtype=float32_ref>,\n",
       " <tf.Variable 'hidden_layer3/kernel:0' shape=(256, 128) dtype=float32_ref>,\n",
       " <tf.Variable 'hidden_layer3/bias:0' shape=(128,) dtype=float32_ref>,\n",
       " <tf.Variable 'batch_normalization_3/gamma:0' shape=(128,) dtype=float32_ref>,\n",
       " <tf.Variable 'batch_normalization_3/beta:0' shape=(128,) dtype=float32_ref>,\n",
       " <tf.Variable 'output/kernel:0' shape=(128, 10) dtype=float32_ref>,\n",
       " <tf.Variable 'output/bias:0' shape=(10,) dtype=float32_ref>,\n",
       " <tf.Variable 'batch_normalization_1/moving_mean:0' shape=(512,) dtype=float32_ref>,\n",
       " <tf.Variable 'batch_normalization_1/moving_variance:0' shape=(512,) dtype=float32_ref>,\n",
       " <tf.Variable 'batch_normalization_2/moving_mean:0' shape=(256,) dtype=float32_ref>,\n",
       " <tf.Variable 'batch_normalization_2/moving_variance:0' shape=(256,) dtype=float32_ref>,\n",
       " <tf.Variable 'batch_normalization_3/moving_mean:0' shape=(128,) dtype=float32_ref>,\n",
       " <tf.Variable 'batch_normalization_3/moving_variance:0' shape=(128,) dtype=float32_ref>]"
      ]
     },
     "execution_count": 55,
     "metadata": {},
     "output_type": "execute_result"
    }
   ],
   "source": [
    "model.weights"
   ]
  },
  {
   "cell_type": "code",
   "execution_count": 56,
   "metadata": {},
   "outputs": [
    {
     "name": "stdout",
     "output_type": "stream",
     "text": [
      "Train on 50000 samples, validate on 10000 samples\n",
      "Epoch 1/50\n",
      "50000/50000 [==============================] - 1s 23us/step - loss: 0.9705 - acc: 0.6702 - val_loss: 1.4689 - val_acc: 0.4870\n",
      "Epoch 2/50\n",
      "50000/50000 [==============================] - 1s 23us/step - loss: 0.9509 - acc: 0.6808 - val_loss: 1.4677 - val_acc: 0.4931\n",
      "Epoch 3/50\n",
      "50000/50000 [==============================] - 1s 24us/step - loss: 0.9312 - acc: 0.6865 - val_loss: 1.4796 - val_acc: 0.4887\n",
      "Epoch 4/50\n",
      "50000/50000 [==============================] - 1s 23us/step - loss: 0.9106 - acc: 0.6957 - val_loss: 1.4811 - val_acc: 0.4844\n",
      "Epoch 5/50\n",
      "50000/50000 [==============================] - 1s 23us/step - loss: 0.8879 - acc: 0.7063 - val_loss: 1.4855 - val_acc: 0.4869\n",
      "Epoch 6/50\n",
      "50000/50000 [==============================] - 1s 24us/step - loss: 0.8683 - acc: 0.7126 - val_loss: 1.4796 - val_acc: 0.4922\n",
      "Epoch 7/50\n",
      "50000/50000 [==============================] - 1s 23us/step - loss: 0.8496 - acc: 0.7193 - val_loss: 1.4910 - val_acc: 0.4924\n",
      "Epoch 8/50\n",
      "50000/50000 [==============================] - 1s 22us/step - loss: 0.8287 - acc: 0.7289 - val_loss: 1.4976 - val_acc: 0.4893\n",
      "Epoch 9/50\n",
      "50000/50000 [==============================] - 1s 23us/step - loss: 0.8102 - acc: 0.7342 - val_loss: 1.5051 - val_acc: 0.4876\n",
      "Epoch 10/50\n",
      "50000/50000 [==============================] - 1s 24us/step - loss: 0.7899 - acc: 0.7447 - val_loss: 1.5062 - val_acc: 0.4894\n",
      "Epoch 11/50\n",
      "50000/50000 [==============================] - 1s 22us/step - loss: 0.7704 - acc: 0.7502 - val_loss: 1.5148 - val_acc: 0.4915\n",
      "Epoch 12/50\n",
      "50000/50000 [==============================] - 1s 23us/step - loss: 0.7524 - acc: 0.7582 - val_loss: 1.5278 - val_acc: 0.4890\n",
      "Epoch 13/50\n",
      "50000/50000 [==============================] - 1s 23us/step - loss: 0.7316 - acc: 0.7667 - val_loss: 1.5305 - val_acc: 0.4900\n",
      "Epoch 14/50\n",
      "50000/50000 [==============================] - 1s 23us/step - loss: 0.7138 - acc: 0.7745 - val_loss: 1.5406 - val_acc: 0.4861\n",
      "Epoch 15/50\n",
      "50000/50000 [==============================] - 1s 22us/step - loss: 0.6957 - acc: 0.7828 - val_loss: 1.5797 - val_acc: 0.4794\n",
      "Epoch 16/50\n",
      "50000/50000 [==============================] - 1s 23us/step - loss: 0.6770 - acc: 0.7895 - val_loss: 1.5638 - val_acc: 0.4866\n",
      "Epoch 17/50\n",
      "50000/50000 [==============================] - 1s 23us/step - loss: 0.6580 - acc: 0.7982 - val_loss: 1.5679 - val_acc: 0.4857\n",
      "Epoch 18/50\n",
      "50000/50000 [==============================] - 1s 22us/step - loss: 0.6411 - acc: 0.8043 - val_loss: 1.5935 - val_acc: 0.4850\n",
      "Epoch 19/50\n",
      "50000/50000 [==============================] - 1s 23us/step - loss: 0.6235 - acc: 0.8105 - val_loss: 1.5796 - val_acc: 0.4887\n",
      "Epoch 20/50\n",
      "50000/50000 [==============================] - 1s 22us/step - loss: 0.6060 - acc: 0.8173 - val_loss: 1.5932 - val_acc: 0.4873\n",
      "Epoch 21/50\n",
      "50000/50000 [==============================] - 1s 22us/step - loss: 0.5864 - acc: 0.8267 - val_loss: 1.6100 - val_acc: 0.4895\n",
      "Epoch 22/50\n",
      "50000/50000 [==============================] - 1s 23us/step - loss: 0.5699 - acc: 0.8305 - val_loss: 1.6279 - val_acc: 0.4848\n",
      "Epoch 23/50\n",
      "50000/50000 [==============================] - 1s 23us/step - loss: 0.5540 - acc: 0.8393 - val_loss: 1.6444 - val_acc: 0.4898\n",
      "Epoch 24/50\n",
      "50000/50000 [==============================] - 1s 23us/step - loss: 0.5376 - acc: 0.8448 - val_loss: 1.6524 - val_acc: 0.4833\n",
      "Epoch 25/50\n",
      "50000/50000 [==============================] - 1s 23us/step - loss: 0.5205 - acc: 0.8508 - val_loss: 1.6523 - val_acc: 0.4842\n",
      "Epoch 26/50\n",
      "50000/50000 [==============================] - 1s 23us/step - loss: 0.5045 - acc: 0.8586 - val_loss: 1.6623 - val_acc: 0.4875\n",
      "Epoch 27/50\n",
      "50000/50000 [==============================] - 1s 23us/step - loss: 0.4884 - acc: 0.8636 - val_loss: 1.6974 - val_acc: 0.4834\n",
      "Epoch 28/50\n",
      "50000/50000 [==============================] - 1s 23us/step - loss: 0.4734 - acc: 0.8693 - val_loss: 1.7121 - val_acc: 0.4822\n",
      "Epoch 29/50\n",
      "50000/50000 [==============================] - 1s 22us/step - loss: 0.4575 - acc: 0.8755 - val_loss: 1.7103 - val_acc: 0.4880\n",
      "Epoch 30/50\n",
      "50000/50000 [==============================] - 1s 23us/step - loss: 0.4414 - acc: 0.8827 - val_loss: 1.7278 - val_acc: 0.4836\n",
      "Epoch 31/50\n",
      "50000/50000 [==============================] - 1s 23us/step - loss: 0.4255 - acc: 0.8891 - val_loss: 1.7347 - val_acc: 0.4864\n",
      "Epoch 32/50\n",
      "50000/50000 [==============================] - 1s 22us/step - loss: 0.4135 - acc: 0.8931 - val_loss: 1.7467 - val_acc: 0.4823\n",
      "Epoch 33/50\n",
      "50000/50000 [==============================] - 1s 23us/step - loss: 0.3999 - acc: 0.8980 - val_loss: 1.7713 - val_acc: 0.4924\n",
      "Epoch 34/50\n",
      "50000/50000 [==============================] - 1s 23us/step - loss: 0.3855 - acc: 0.9024 - val_loss: 1.7756 - val_acc: 0.4838\n",
      "Epoch 35/50\n",
      "50000/50000 [==============================] - 1s 23us/step - loss: 0.3723 - acc: 0.9073 - val_loss: 1.7832 - val_acc: 0.4858\n",
      "Epoch 36/50\n",
      "50000/50000 [==============================] - 1s 23us/step - loss: 0.3568 - acc: 0.9141 - val_loss: 1.8194 - val_acc: 0.4837\n",
      "Epoch 37/50\n",
      "50000/50000 [==============================] - 1s 23us/step - loss: 0.3453 - acc: 0.9186 - val_loss: 1.8167 - val_acc: 0.4863\n",
      "Epoch 38/50\n",
      "50000/50000 [==============================] - 1s 23us/step - loss: 0.3318 - acc: 0.9230 - val_loss: 1.8386 - val_acc: 0.4809\n",
      "Epoch 39/50\n",
      "50000/50000 [==============================] - 1s 22us/step - loss: 0.3200 - acc: 0.9292 - val_loss: 1.8372 - val_acc: 0.4780\n",
      "Epoch 40/50\n",
      "50000/50000 [==============================] - 1s 23us/step - loss: 0.3064 - acc: 0.9328 - val_loss: 1.8706 - val_acc: 0.4851\n",
      "Epoch 41/50\n",
      "50000/50000 [==============================] - 1s 23us/step - loss: 0.2950 - acc: 0.9372 - val_loss: 1.8754 - val_acc: 0.4858\n",
      "Epoch 42/50\n",
      "50000/50000 [==============================] - 1s 23us/step - loss: 0.2854 - acc: 0.9405 - val_loss: 1.8917 - val_acc: 0.4803\n",
      "Epoch 43/50\n",
      "50000/50000 [==============================] - 1s 23us/step - loss: 0.2737 - acc: 0.9442 - val_loss: 1.9279 - val_acc: 0.4842\n",
      "Epoch 44/50\n",
      "50000/50000 [==============================] - 1s 23us/step - loss: 0.2628 - acc: 0.9480 - val_loss: 1.9540 - val_acc: 0.4785\n",
      "Epoch 45/50\n",
      "50000/50000 [==============================] - 1s 23us/step - loss: 0.2528 - acc: 0.9512 - val_loss: 1.9365 - val_acc: 0.4847\n",
      "Epoch 46/50\n",
      "50000/50000 [==============================] - 1s 23us/step - loss: 0.2432 - acc: 0.9536 - val_loss: 1.9959 - val_acc: 0.4807\n",
      "Epoch 47/50\n",
      "50000/50000 [==============================] - 1s 23us/step - loss: 0.2330 - acc: 0.9575 - val_loss: 1.9884 - val_acc: 0.4783\n",
      "Epoch 48/50\n",
      "50000/50000 [==============================] - 1s 23us/step - loss: 0.2233 - acc: 0.9608 - val_loss: 2.0126 - val_acc: 0.4714\n",
      "Epoch 49/50\n",
      "50000/50000 [==============================] - 1s 23us/step - loss: 0.2145 - acc: 0.9629 - val_loss: 2.0202 - val_acc: 0.4833\n",
      "Epoch 50/50\n",
      "50000/50000 [==============================] - 1s 23us/step - loss: 0.2058 - acc: 0.9658 - val_loss: 2.0308 - val_acc: 0.4773\n"
     ]
    },
    {
     "data": {
      "text/plain": [
       "<keras.callbacks.History at 0x7f69afd2bdd8>"
      ]
     },
     "execution_count": 56,
     "metadata": {},
     "output_type": "execute_result"
    }
   ],
   "source": [
    "model.fit(x_train, y_train, \n",
    "          epochs=EPOCHS, \n",
    "          batch_size=BATCH_SIZE, \n",
    "          validation_data=(x_test, y_test), \n",
    "          shuffle=True,\n",
    "          callbacks=[model_ckpt]\n",
    "         )"
   ]
  },
  {
   "cell_type": "code",
   "execution_count": 57,
   "metadata": {},
   "outputs": [
    {
     "ename": "ValueError",
     "evalue": "No model found in config file.",
     "output_type": "error",
     "traceback": [
      "\u001b[0;31m---------------------------------------------------------------------------\u001b[0m",
      "\u001b[0;31mValueError\u001b[0m                                Traceback (most recent call last)",
      "\u001b[0;32m<ipython-input-57-b2bf23bca20e>\u001b[0m in \u001b[0;36m<module>\u001b[0;34m()\u001b[0m\n\u001b[1;32m      6\u001b[0m \u001b[0;34m\u001b[0m\u001b[0m\n\u001b[1;32m      7\u001b[0m \u001b[0;31m# Load back\u001b[0m\u001b[0;34m\u001b[0m\u001b[0;34m\u001b[0m\u001b[0m\n\u001b[0;32m----> 8\u001b[0;31m \u001b[0mmodel\u001b[0m \u001b[0;34m=\u001b[0m \u001b[0mkeras\u001b[0m\u001b[0;34m.\u001b[0m\u001b[0mmodels\u001b[0m\u001b[0;34m.\u001b[0m\u001b[0mload_model\u001b[0m\u001b[0;34m(\u001b[0m\u001b[0;34m\"./tmp.h5\"\u001b[0m\u001b[0;34m)\u001b[0m\u001b[0;34m\u001b[0m\u001b[0m\n\u001b[0m\u001b[1;32m      9\u001b[0m \u001b[0mloss_loadback\u001b[0m\u001b[0;34m,\u001b[0m \u001b[0macc_loadback\u001b[0m \u001b[0;34m=\u001b[0m \u001b[0mmodel\u001b[0m\u001b[0;34m.\u001b[0m\u001b[0mevaluate\u001b[0m\u001b[0;34m(\u001b[0m\u001b[0mx_test\u001b[0m\u001b[0;34m,\u001b[0m \u001b[0my_test\u001b[0m\u001b[0;34m)\u001b[0m\u001b[0;34m\u001b[0m\u001b[0m\n\u001b[1;32m     10\u001b[0m \u001b[0;32mimport\u001b[0m \u001b[0mmatplotlib\u001b[0m\u001b[0;34m.\u001b[0m\u001b[0mpyplot\u001b[0m \u001b[0;32mas\u001b[0m \u001b[0mplt\u001b[0m\u001b[0;34m\u001b[0m\u001b[0m\n",
      "\u001b[0;32m/home/tekwell/anaconda3/lib/python3.6/site-packages/keras/models.py\u001b[0m in \u001b[0;36mload_model\u001b[0;34m(filepath, custom_objects, compile)\u001b[0m\n\u001b[1;32m    266\u001b[0m         \u001b[0mmodel_config\u001b[0m \u001b[0;34m=\u001b[0m \u001b[0mf\u001b[0m\u001b[0;34m.\u001b[0m\u001b[0mattrs\u001b[0m\u001b[0;34m.\u001b[0m\u001b[0mget\u001b[0m\u001b[0;34m(\u001b[0m\u001b[0;34m'model_config'\u001b[0m\u001b[0;34m)\u001b[0m\u001b[0;34m\u001b[0m\u001b[0m\n\u001b[1;32m    267\u001b[0m         \u001b[0;32mif\u001b[0m \u001b[0mmodel_config\u001b[0m \u001b[0;32mis\u001b[0m \u001b[0;32mNone\u001b[0m\u001b[0;34m:\u001b[0m\u001b[0;34m\u001b[0m\u001b[0m\n\u001b[0;32m--> 268\u001b[0;31m             \u001b[0;32mraise\u001b[0m \u001b[0mValueError\u001b[0m\u001b[0;34m(\u001b[0m\u001b[0;34m'No model found in config file.'\u001b[0m\u001b[0;34m)\u001b[0m\u001b[0;34m\u001b[0m\u001b[0m\n\u001b[0m\u001b[1;32m    269\u001b[0m         \u001b[0mmodel_config\u001b[0m \u001b[0;34m=\u001b[0m \u001b[0mjson\u001b[0m\u001b[0;34m.\u001b[0m\u001b[0mloads\u001b[0m\u001b[0;34m(\u001b[0m\u001b[0mmodel_config\u001b[0m\u001b[0;34m.\u001b[0m\u001b[0mdecode\u001b[0m\u001b[0;34m(\u001b[0m\u001b[0;34m'utf-8'\u001b[0m\u001b[0;34m)\u001b[0m\u001b[0;34m)\u001b[0m\u001b[0;34m\u001b[0m\u001b[0m\n\u001b[1;32m    270\u001b[0m         \u001b[0mmodel\u001b[0m \u001b[0;34m=\u001b[0m \u001b[0mmodel_from_config\u001b[0m\u001b[0;34m(\u001b[0m\u001b[0mmodel_config\u001b[0m\u001b[0;34m,\u001b[0m \u001b[0mcustom_objects\u001b[0m\u001b[0;34m=\u001b[0m\u001b[0mcustom_objects\u001b[0m\u001b[0;34m)\u001b[0m\u001b[0;34m\u001b[0m\u001b[0m\n",
      "\u001b[0;31mValueError\u001b[0m: No model found in config file."
     ]
    }
   ],
   "source": [
    "# Collect results\n",
    "train_loss = model.history.history[\"loss\"]\n",
    "valid_loss = model.history.history[\"val_loss\"]\n",
    "train_acc = model.history.history[\"acc\"]\n",
    "valid_acc = model.history.history[\"val_acc\"]\n",
    "\n",
    "# Load back\n",
    "model = keras.models.load_model(\"./tmp.h5\")\n",
    "loss_loadback, acc_loadback = model.evaluate(x_test, y_test)\n",
    "import matplotlib.pyplot as plt\n",
    "%matplotlib inline\n",
    "\n",
    "plt.plot(range(len(train_loss)), train_loss, label=\"train loss\")\n",
    "plt.plot(range(len(valid_loss)), valid_loss, label=\"valid loss\")\n",
    "plt.hlines(y=loss_loadback, xmin=0, xmax=len(train_loss), colors='r', linestyles='--')\n",
    "plt.legend()\n",
    "plt.title(\"Loss\")\n",
    "plt.show()\n",
    "\n",
    "plt.plot(range(len(train_acc)), train_acc, label=\"train accuracy\")\n",
    "plt.plot(range(len(valid_acc)), valid_acc, label=\"valid accuracy\")\n",
    "plt.hlines(y=acc_loadback, xmin=0, xmax=len(train_loss), colors='r', linestyles='--')\n",
    "plt.legend()\n",
    "plt.title(\"Accuracy\")\n",
    "plt.show()"
   ]
  },
  {
   "cell_type": "markdown",
   "metadata": {},
   "source": [
    "因為只儲存了 weight  在./tmp.h5"
   ]
  }
 ],
 "metadata": {
  "anaconda-cloud": {},
  "kernelspec": {
   "display_name": "Python 3",
   "language": "python",
   "name": "python3"
  },
  "language_info": {
   "codemirror_mode": {
    "name": "ipython",
    "version": 3
   },
   "file_extension": ".py",
   "mimetype": "text/x-python",
   "name": "python",
   "nbconvert_exporter": "python",
   "pygments_lexer": "ipython3",
   "version": "3.6.1"
  }
 },
 "nbformat": 4,
 "nbformat_minor": 2
}
