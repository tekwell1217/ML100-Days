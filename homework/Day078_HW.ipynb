{
 "cells": [
  {
   "cell_type": "markdown",
   "metadata": {},
   "source": [
    "## Work\n",
    "1. 請嘗試將 preproc_x 替換成以每筆資料的 min/max 進行標準化至 -1 ~ 1 間，再進行訓練\n",
    "2. 請嘗試將 mlp 疊更深 (e.g 5~10 層)，進行訓練後觀察 learning curve 的走勢\n",
    "3. (optional) 請改用 GPU 進行訓練 (如果你有 GPU 的話)，比較使用 CPU 與 GPU 的訓練速度"
   ]
  },
  {
   "cell_type": "code",
   "execution_count": 1,
   "metadata": {},
   "outputs": [
    {
     "name": "stdout",
     "output_type": "stream",
     "text": [
      "Fri Apr  5 14:26:11 2019       \r\n",
      "+-----------------------------------------------------------------------------+\r\n",
      "| NVIDIA-SMI 418.56       Driver Version: 418.56       CUDA Version: 10.1     |\r\n",
      "|-------------------------------+----------------------+----------------------+\r\n",
      "| GPU  Name        Persistence-M| Bus-Id        Disp.A | Volatile Uncorr. ECC |\r\n",
      "| Fan  Temp  Perf  Pwr:Usage/Cap|         Memory-Usage | GPU-Util  Compute M. |\r\n",
      "|===============================+======================+======================|\r\n",
      "|   0  GeForce RTX 2060    Off  | 00000000:08:00.0  On |                  N/A |\r\n",
      "| 47%   40C    P2    34W / 160W |    699MiB /  5901MiB |      0%      Default |\r\n",
      "+-------------------------------+----------------------+----------------------+\r\n",
      "                                                                               \r\n",
      "+-----------------------------------------------------------------------------+\r\n",
      "| Processes:                                                       GPU Memory |\r\n",
      "|  GPU       PID   Type   Process name                             Usage      |\r\n",
      "|=============================================================================|\r\n",
      "|    0      1135      G   /usr/lib/xorg/Xorg                           281MiB |\r\n",
      "|    0      1958      G   compiz                                        73MiB |\r\n",
      "|    0      2250      G   ...uest-channel-token=10182515362960093790    94MiB |\r\n",
      "|    0      6012      C   /home/tekwell/anaconda3/bin/python           245MiB |\r\n",
      "+-----------------------------------------------------------------------------+\r\n"
     ]
    }
   ],
   "source": [
    "## 確認硬體資源\n",
    "!nvidia-smi\n"
   ]
  },
  {
   "cell_type": "code",
   "execution_count": 5,
   "metadata": {},
   "outputs": [],
   "source": [
    "os.environ[\"CUDA_VISIBLE_DEVICES\"] = \"0\""
   ]
  },
  {
   "cell_type": "code",
   "execution_count": 4,
   "metadata": {
    "scrolled": false
   },
   "outputs": [
    {
     "name": "stderr",
     "output_type": "stream",
     "text": [
      "Using TensorFlow backend.\n"
     ]
    }
   ],
   "source": [
    "import os\n",
    "import keras\n",
    "import tensorflow as tf\n",
    "\n",
    "config = tf.ConfigProto()\n",
    "config.gpu_options.per_process_gpu_memory_fraction = 0.5  # 程序最多只能占用指定gpu50%的显存\n",
    "config.gpu_options.allow_growth = True      #程序按需申请内存\n",
    "sess = tf.Session(config = config)\n",
    "\n"
   ]
  },
  {
   "cell_type": "code",
   "execution_count": 24,
   "metadata": {
    "collapsed": true
   },
   "outputs": [],
   "source": [
    "train, test = keras.datasets.cifar10.load_data()"
   ]
  },
  {
   "cell_type": "code",
   "execution_count": 25,
   "metadata": {
    "collapsed": true
   },
   "outputs": [],
   "source": [
    "## 資料前處理\n",
    "from sklearn.preprocessing import MinMaxScaler\n",
    "# MinMaxScaler(copy=True, feature_range=(-1, 1))\n",
    "scaler = MinMaxScaler(copy=True, feature_range=(-1, 1))\n",
    "\n",
    "def preproc_x(x, flatten=True):\n",
    "    if flatten:\n",
    "        x = x.reshape((len(x), -1))\n",
    "    x = scaler.fit_transform(x)\n",
    "    return x\n",
    "\n",
    "def preproc_y(y, num_classes=10):\n",
    "    if y.shape[-1] == 1:\n",
    "        y = keras.utils.to_categorical(y, num_classes)\n",
    "    return y    "
   ]
  },
  {
   "cell_type": "code",
   "execution_count": 26,
   "metadata": {
    "scrolled": true
   },
   "outputs": [
    {
     "name": "stderr",
     "output_type": "stream",
     "text": [
      "/home/tekwell/anaconda3/lib/python3.6/site-packages/sklearn/utils/validation.py:429: DataConversionWarning: Data with input dtype uint8 was converted to float64 by MinMaxScaler.\n",
      "  warnings.warn(msg, _DataConversionWarning)\n"
     ]
    }
   ],
   "source": [
    "x_train, y_train = train\n",
    "x_test, y_test = test\n",
    "\n",
    "# Preproc the inputs\n",
    "x_train = preproc_x(x_train)\n",
    "x_test = preproc_x(x_test)\n",
    "\n",
    "# Preprc the outputs\n",
    "y_train = preproc_y(y_train)\n",
    "y_test = preproc_y(y_test)"
   ]
  },
  {
   "cell_type": "code",
   "execution_count": 31,
   "metadata": {},
   "outputs": [
    {
     "data": {
      "text/plain": [
       "1.0"
      ]
     },
     "execution_count": 31,
     "metadata": {},
     "output_type": "execute_result"
    }
   ],
   "source": [
    "x_train.max()"
   ]
  },
  {
   "cell_type": "code",
   "execution_count": 27,
   "metadata": {
    "collapsed": true
   },
   "outputs": [],
   "source": [
    "def build_mlp(input_shape, output_units=10, num_neurons=[512, 256, 128]):\n",
    "    input_layer = keras.layers.Input(input_shape)\n",
    "    \n",
    "    for i, n_units in enumerate(num_neurons):\n",
    "        if i == 0:\n",
    "            x = keras.layers.Dense(units=n_units, activation=\"relu\", name=\"hidden_layer\"+str(i+1))(input_layer)\n",
    "        else:\n",
    "            x = keras.layers.Dense(units=n_units, activation=\"relu\", name=\"hidden_layer\"+str(i+1))(x)\n",
    "    \n",
    "    out = keras.layers.Dense(units=output_units, activation=\"softmax\", name=\"output\")(x)\n",
    "    \n",
    "    model = keras.models.Model(inputs=[input_layer], outputs=[out])\n",
    "    return model\n",
    "\n",
    "# model.summary()"
   ]
  },
  {
   "cell_type": "code",
   "execution_count": 32,
   "metadata": {
    "scrolled": false
   },
   "outputs": [
    {
     "data": {
      "text/plain": [
       "(3072,)"
      ]
     },
     "execution_count": 32,
     "metadata": {},
     "output_type": "execute_result"
    }
   ],
   "source": [
    "x_train.shape[1:]"
   ]
  },
  {
   "cell_type": "code",
   "execution_count": 33,
   "metadata": {},
   "outputs": [
    {
     "name": "stdout",
     "output_type": "stream",
     "text": [
      "_________________________________________________________________\n",
      "Layer (type)                 Output Shape              Param #   \n",
      "=================================================================\n",
      "input_2 (InputLayer)         (None, 3072)              0         \n",
      "_________________________________________________________________\n",
      "hidden_layer1 (Dense)        (None, 512)               1573376   \n",
      "_________________________________________________________________\n",
      "hidden_layer2 (Dense)        (None, 256)               131328    \n",
      "_________________________________________________________________\n",
      "hidden_layer3 (Dense)        (None, 128)               32896     \n",
      "_________________________________________________________________\n",
      "output (Dense)               (None, 10)                1290      \n",
      "=================================================================\n",
      "Total params: 1,738,890\n",
      "Trainable params: 1,738,890\n",
      "Non-trainable params: 0\n",
      "_________________________________________________________________\n"
     ]
    }
   ],
   "source": [
    "model = build_mlp(input_shape=x_train.shape[1:])\n",
    "model.summary()"
   ]
  },
  {
   "cell_type": "code",
   "execution_count": 34,
   "metadata": {
    "collapsed": true
   },
   "outputs": [],
   "source": [
    "## 超參數設定\n",
    "LEARNING_RATE = 0.001\n",
    "EPOCHS = 100\n",
    "BATCH_SIZE = 256"
   ]
  },
  {
   "cell_type": "code",
   "execution_count": 35,
   "metadata": {
    "collapsed": true
   },
   "outputs": [],
   "source": [
    "optimizer = keras.optimizers.Adam(lr=LEARNING_RATE)\n",
    "model.compile(loss=\"categorical_crossentropy\", metrics=[\"accuracy\"], optimizer=optimizer)"
   ]
  },
  {
   "cell_type": "code",
   "execution_count": 36,
   "metadata": {
    "collapsed": true
   },
   "outputs": [],
   "source": [
    "# gpu_options = tf.GPUOptions(per_process_gpu_memory_fraction=0.7)\n",
    "# sess = tf.Session(config=tf.ConfigProto(gpu_options=gpu_options))"
   ]
  },
  {
   "cell_type": "code",
   "execution_count": 37,
   "metadata": {
    "scrolled": true
   },
   "outputs": [
    {
     "name": "stdout",
     "output_type": "stream",
     "text": [
      "Train on 50000 samples, validate on 10000 samples\n",
      "Epoch 1/100\n",
      "50000/50000 [==============================] - 2s 33us/step - loss: 1.6769 - acc: 0.4053 - val_loss: 1.5131 - val_acc: 0.4713\n",
      "Epoch 2/100\n",
      "50000/50000 [==============================] - 1s 28us/step - loss: 1.4455 - acc: 0.4915 - val_loss: 1.4292 - val_acc: 0.4985\n",
      "Epoch 3/100\n",
      "50000/50000 [==============================] - 1s 29us/step - loss: 1.3241 - acc: 0.5342 - val_loss: 1.3904 - val_acc: 0.5069\n",
      "Epoch 4/100\n",
      "50000/50000 [==============================] - 1s 29us/step - loss: 1.2251 - acc: 0.5716 - val_loss: 1.3717 - val_acc: 0.5227\n",
      "Epoch 5/100\n",
      "50000/50000 [==============================] - 1s 29us/step - loss: 1.1388 - acc: 0.5989 - val_loss: 1.3752 - val_acc: 0.5220\n",
      "Epoch 6/100\n",
      "50000/50000 [==============================] - 1s 29us/step - loss: 1.0549 - acc: 0.6300 - val_loss: 1.3688 - val_acc: 0.5285\n",
      "Epoch 7/100\n",
      "50000/50000 [==============================] - 1s 29us/step - loss: 0.9764 - acc: 0.6536 - val_loss: 1.3996 - val_acc: 0.5270\n",
      "Epoch 8/100\n",
      "50000/50000 [==============================] - 1s 29us/step - loss: 0.8960 - acc: 0.6834 - val_loss: 1.4487 - val_acc: 0.5214\n",
      "Epoch 9/100\n",
      "50000/50000 [==============================] - 1s 29us/step - loss: 0.8202 - acc: 0.7098 - val_loss: 1.4994 - val_acc: 0.5268\n",
      "Epoch 10/100\n",
      "50000/50000 [==============================] - 1s 29us/step - loss: 0.7516 - acc: 0.7342 - val_loss: 1.5272 - val_acc: 0.5287\n",
      "Epoch 11/100\n",
      "50000/50000 [==============================] - 1s 29us/step - loss: 0.6863 - acc: 0.7585 - val_loss: 1.5781 - val_acc: 0.5335\n",
      "Epoch 12/100\n",
      "50000/50000 [==============================] - 1s 29us/step - loss: 0.6178 - acc: 0.7826 - val_loss: 1.6473 - val_acc: 0.5338\n",
      "Epoch 13/100\n",
      "50000/50000 [==============================] - 1s 28us/step - loss: 0.5661 - acc: 0.8016 - val_loss: 1.7609 - val_acc: 0.5165\n",
      "Epoch 14/100\n",
      "50000/50000 [==============================] - 1s 29us/step - loss: 0.4945 - acc: 0.8256 - val_loss: 1.8251 - val_acc: 0.5262\n",
      "Epoch 15/100\n",
      "50000/50000 [==============================] - 1s 29us/step - loss: 0.4514 - acc: 0.8432 - val_loss: 1.8677 - val_acc: 0.5343\n",
      "Epoch 16/100\n",
      "50000/50000 [==============================] - 1s 29us/step - loss: 0.3957 - acc: 0.8622 - val_loss: 2.0759 - val_acc: 0.5185\n",
      "Epoch 17/100\n",
      "50000/50000 [==============================] - 1s 29us/step - loss: 0.3627 - acc: 0.8725 - val_loss: 2.0550 - val_acc: 0.5311\n",
      "Epoch 18/100\n",
      "50000/50000 [==============================] - 1s 29us/step - loss: 0.3410 - acc: 0.8818 - val_loss: 2.1544 - val_acc: 0.5309\n",
      "Epoch 19/100\n",
      "50000/50000 [==============================] - 1s 28us/step - loss: 0.3130 - acc: 0.8896 - val_loss: 2.3242 - val_acc: 0.5311\n",
      "Epoch 20/100\n",
      "50000/50000 [==============================] - 1s 29us/step - loss: 0.2755 - acc: 0.9052 - val_loss: 2.3829 - val_acc: 0.5297\n",
      "Epoch 21/100\n",
      "50000/50000 [==============================] - 1s 28us/step - loss: 0.2662 - acc: 0.9068 - val_loss: 2.5313 - val_acc: 0.5193\n",
      "Epoch 22/100\n",
      "50000/50000 [==============================] - 1s 28us/step - loss: 0.2511 - acc: 0.9111 - val_loss: 2.5177 - val_acc: 0.5242\n",
      "Epoch 23/100\n",
      "50000/50000 [==============================] - 1s 29us/step - loss: 0.2388 - acc: 0.9167 - val_loss: 2.6583 - val_acc: 0.5224\n",
      "Epoch 24/100\n",
      "50000/50000 [==============================] - 1s 30us/step - loss: 0.2097 - acc: 0.9261 - val_loss: 2.6975 - val_acc: 0.5251\n",
      "Epoch 25/100\n",
      "50000/50000 [==============================] - 1s 29us/step - loss: 0.1884 - acc: 0.9346 - val_loss: 2.8208 - val_acc: 0.5245\n",
      "Epoch 26/100\n",
      "50000/50000 [==============================] - 1s 29us/step - loss: 0.2114 - acc: 0.9261 - val_loss: 2.8483 - val_acc: 0.5151\n",
      "Epoch 27/100\n",
      "50000/50000 [==============================] - 1s 28us/step - loss: 0.1822 - acc: 0.9359 - val_loss: 3.0026 - val_acc: 0.5169\n",
      "Epoch 28/100\n",
      "50000/50000 [==============================] - 1s 29us/step - loss: 0.1936 - acc: 0.9330 - val_loss: 2.9379 - val_acc: 0.5258\n",
      "Epoch 29/100\n",
      "50000/50000 [==============================] - 1s 29us/step - loss: 0.1404 - acc: 0.9518 - val_loss: 3.1076 - val_acc: 0.5334\n",
      "Epoch 30/100\n",
      "50000/50000 [==============================] - 1s 30us/step - loss: 0.1796 - acc: 0.9385 - val_loss: 3.1237 - val_acc: 0.5245\n",
      "Epoch 31/100\n",
      "50000/50000 [==============================] - 1s 29us/step - loss: 0.1676 - acc: 0.9431 - val_loss: 3.1032 - val_acc: 0.5320\n",
      "Epoch 32/100\n",
      "50000/50000 [==============================] - 2s 30us/step - loss: 0.1569 - acc: 0.9456 - val_loss: 3.1269 - val_acc: 0.5280\n",
      "Epoch 33/100\n",
      "50000/50000 [==============================] - 1s 28us/step - loss: 0.1427 - acc: 0.9511 - val_loss: 3.2840 - val_acc: 0.5233\n",
      "Epoch 34/100\n",
      "50000/50000 [==============================] - 1s 29us/step - loss: 0.1516 - acc: 0.9480 - val_loss: 3.3556 - val_acc: 0.5226\n",
      "Epoch 35/100\n",
      "50000/50000 [==============================] - 1s 28us/step - loss: 0.1355 - acc: 0.9529 - val_loss: 3.4036 - val_acc: 0.5227\n",
      "Epoch 36/100\n",
      "50000/50000 [==============================] - 1s 29us/step - loss: 0.1690 - acc: 0.9439 - val_loss: 3.3266 - val_acc: 0.5235\n",
      "Epoch 37/100\n",
      "50000/50000 [==============================] - 1s 29us/step - loss: 0.1455 - acc: 0.9509 - val_loss: 3.3268 - val_acc: 0.5197\n",
      "Epoch 38/100\n",
      "50000/50000 [==============================] - 1s 29us/step - loss: 0.1285 - acc: 0.9561 - val_loss: 3.4915 - val_acc: 0.5284\n",
      "Epoch 39/100\n",
      "50000/50000 [==============================] - 1s 29us/step - loss: 0.1382 - acc: 0.9537 - val_loss: 3.4522 - val_acc: 0.5241\n",
      "Epoch 40/100\n",
      "50000/50000 [==============================] - 1s 29us/step - loss: 0.1166 - acc: 0.9603 - val_loss: 3.4980 - val_acc: 0.5261\n",
      "Epoch 41/100\n",
      "50000/50000 [==============================] - 1s 29us/step - loss: 0.1446 - acc: 0.9508 - val_loss: 3.5249 - val_acc: 0.5189\n",
      "Epoch 42/100\n",
      "50000/50000 [==============================] - 1s 29us/step - loss: 0.1203 - acc: 0.9605 - val_loss: 3.5840 - val_acc: 0.5201\n",
      "Epoch 43/100\n",
      "50000/50000 [==============================] - 1s 29us/step - loss: 0.1242 - acc: 0.9581 - val_loss: 3.6247 - val_acc: 0.5176\n",
      "Epoch 44/100\n",
      "50000/50000 [==============================] - 1s 29us/step - loss: 0.1034 - acc: 0.9649 - val_loss: 3.6269 - val_acc: 0.5219\n",
      "Epoch 45/100\n",
      "50000/50000 [==============================] - 1s 28us/step - loss: 0.1121 - acc: 0.9627 - val_loss: 3.7140 - val_acc: 0.5245\n",
      "Epoch 46/100\n",
      "50000/50000 [==============================] - 1s 29us/step - loss: 0.1325 - acc: 0.9549 - val_loss: 3.6964 - val_acc: 0.5196\n",
      "Epoch 47/100\n",
      "50000/50000 [==============================] - 1s 29us/step - loss: 0.1292 - acc: 0.9566 - val_loss: 3.7640 - val_acc: 0.5165\n",
      "Epoch 48/100\n",
      "50000/50000 [==============================] - 1s 28us/step - loss: 0.1043 - acc: 0.9638 - val_loss: 3.8225 - val_acc: 0.5237\n",
      "Epoch 49/100\n",
      "50000/50000 [==============================] - 1s 28us/step - loss: 0.0884 - acc: 0.9703 - val_loss: 3.7805 - val_acc: 0.5279\n",
      "Epoch 50/100\n",
      "50000/50000 [==============================] - 1s 28us/step - loss: 0.0989 - acc: 0.9669 - val_loss: 3.8681 - val_acc: 0.5162\n",
      "Epoch 51/100\n",
      "50000/50000 [==============================] - 1s 28us/step - loss: 0.1324 - acc: 0.9561 - val_loss: 3.8067 - val_acc: 0.5242\n",
      "Epoch 52/100\n",
      "50000/50000 [==============================] - 1s 29us/step - loss: 0.1110 - acc: 0.9626 - val_loss: 3.8267 - val_acc: 0.5240\n",
      "Epoch 53/100\n",
      "50000/50000 [==============================] - 1s 29us/step - loss: 0.1166 - acc: 0.9623 - val_loss: 3.8679 - val_acc: 0.5204\n",
      "Epoch 54/100\n",
      "50000/50000 [==============================] - 1s 29us/step - loss: 0.1130 - acc: 0.9631 - val_loss: 3.8531 - val_acc: 0.5239\n",
      "Epoch 55/100\n",
      "50000/50000 [==============================] - 1s 29us/step - loss: 0.0891 - acc: 0.9707 - val_loss: 3.8549 - val_acc: 0.5215\n",
      "Epoch 56/100\n",
      "50000/50000 [==============================] - 1s 28us/step - loss: 0.0850 - acc: 0.9722 - val_loss: 3.9757 - val_acc: 0.5307\n",
      "Epoch 57/100\n",
      "50000/50000 [==============================] - 1s 29us/step - loss: 0.0906 - acc: 0.9695 - val_loss: 3.8811 - val_acc: 0.5298\n",
      "Epoch 58/100\n",
      "50000/50000 [==============================] - 1s 29us/step - loss: 0.1241 - acc: 0.9601 - val_loss: 3.9836 - val_acc: 0.5250\n",
      "Epoch 59/100\n"
     ]
    },
    {
     "name": "stdout",
     "output_type": "stream",
     "text": [
      "50000/50000 [==============================] - 1s 29us/step - loss: 0.1095 - acc: 0.9649 - val_loss: 3.9187 - val_acc: 0.5238\n",
      "Epoch 60/100\n",
      "50000/50000 [==============================] - 1s 29us/step - loss: 0.1005 - acc: 0.9674 - val_loss: 3.9305 - val_acc: 0.5248\n",
      "Epoch 61/100\n",
      "50000/50000 [==============================] - 2s 30us/step - loss: 0.0608 - acc: 0.9789 - val_loss: 3.9927 - val_acc: 0.5320\n",
      "Epoch 62/100\n",
      "50000/50000 [==============================] - 2s 30us/step - loss: 0.0603 - acc: 0.9798 - val_loss: 4.0479 - val_acc: 0.5304\n",
      "Epoch 63/100\n",
      "50000/50000 [==============================] - 1s 30us/step - loss: 0.1038 - acc: 0.9677 - val_loss: 3.9694 - val_acc: 0.5230\n",
      "Epoch 64/100\n",
      "50000/50000 [==============================] - 2s 30us/step - loss: 0.1273 - acc: 0.9598 - val_loss: 4.0490 - val_acc: 0.5168\n",
      "Epoch 65/100\n",
      "50000/50000 [==============================] - 1s 29us/step - loss: 0.0825 - acc: 0.9728 - val_loss: 4.0581 - val_acc: 0.5274\n",
      "Epoch 66/100\n",
      "50000/50000 [==============================] - 1s 29us/step - loss: 0.0839 - acc: 0.9737 - val_loss: 4.1106 - val_acc: 0.5263\n",
      "Epoch 67/100\n",
      "50000/50000 [==============================] - 1s 29us/step - loss: 0.0929 - acc: 0.9693 - val_loss: 4.1498 - val_acc: 0.5218\n",
      "Epoch 68/100\n",
      "50000/50000 [==============================] - 1s 28us/step - loss: 0.0968 - acc: 0.9691 - val_loss: 4.0822 - val_acc: 0.5264\n",
      "Epoch 69/100\n",
      "50000/50000 [==============================] - 1s 29us/step - loss: 0.0959 - acc: 0.9693 - val_loss: 4.1245 - val_acc: 0.5263\n",
      "Epoch 70/100\n",
      "50000/50000 [==============================] - 1s 29us/step - loss: 0.0860 - acc: 0.9717 - val_loss: 4.1907 - val_acc: 0.5248\n",
      "Epoch 71/100\n",
      "50000/50000 [==============================] - 1s 28us/step - loss: 0.0814 - acc: 0.9731 - val_loss: 4.1470 - val_acc: 0.5304\n",
      "Epoch 72/100\n",
      "50000/50000 [==============================] - 1s 28us/step - loss: 0.0737 - acc: 0.9764 - val_loss: 4.1448 - val_acc: 0.5286\n",
      "Epoch 73/100\n",
      "50000/50000 [==============================] - 1s 30us/step - loss: 0.0924 - acc: 0.9713 - val_loss: 4.1590 - val_acc: 0.5243\n",
      "Epoch 74/100\n",
      "50000/50000 [==============================] - 1s 29us/step - loss: 0.0970 - acc: 0.9698 - val_loss: 4.2048 - val_acc: 0.5231\n",
      "Epoch 75/100\n",
      "50000/50000 [==============================] - 1s 29us/step - loss: 0.0871 - acc: 0.9714 - val_loss: 4.2694 - val_acc: 0.5291\n",
      "Epoch 76/100\n",
      "50000/50000 [==============================] - 1s 30us/step - loss: 0.0631 - acc: 0.9809 - val_loss: 4.1808 - val_acc: 0.5283\n",
      "Epoch 77/100\n",
      "50000/50000 [==============================] - 1s 29us/step - loss: 0.0970 - acc: 0.9705 - val_loss: 4.2990 - val_acc: 0.5142\n",
      "Epoch 78/100\n",
      "50000/50000 [==============================] - 1s 29us/step - loss: 0.0915 - acc: 0.9713 - val_loss: 4.3048 - val_acc: 0.5261\n",
      "Epoch 79/100\n",
      "50000/50000 [==============================] - 1s 28us/step - loss: 0.0728 - acc: 0.9765 - val_loss: 4.2461 - val_acc: 0.5281\n",
      "Epoch 80/100\n",
      "50000/50000 [==============================] - 1s 29us/step - loss: 0.0614 - acc: 0.9798 - val_loss: 4.3377 - val_acc: 0.5204\n",
      "Epoch 81/100\n",
      "50000/50000 [==============================] - 1s 28us/step - loss: 0.0808 - acc: 0.9750 - val_loss: 4.2500 - val_acc: 0.5217\n",
      "Epoch 82/100\n",
      "50000/50000 [==============================] - 1s 29us/step - loss: 0.1027 - acc: 0.9682 - val_loss: 4.1811 - val_acc: 0.5287\n",
      "Epoch 83/100\n",
      "50000/50000 [==============================] - 1s 29us/step - loss: 0.0944 - acc: 0.9714 - val_loss: 4.2808 - val_acc: 0.5231\n",
      "Epoch 84/100\n",
      "50000/50000 [==============================] - 2s 30us/step - loss: 0.0981 - acc: 0.9696 - val_loss: 4.2811 - val_acc: 0.5259\n",
      "Epoch 85/100\n",
      "50000/50000 [==============================] - 1s 28us/step - loss: 0.0708 - acc: 0.9770 - val_loss: 4.3414 - val_acc: 0.5235\n",
      "Epoch 86/100\n",
      "50000/50000 [==============================] - 1s 29us/step - loss: 0.0414 - acc: 0.9864 - val_loss: 4.3086 - val_acc: 0.5314\n",
      "Epoch 87/100\n",
      "50000/50000 [==============================] - 1s 29us/step - loss: 0.0417 - acc: 0.9865 - val_loss: 4.3115 - val_acc: 0.5284\n",
      "Epoch 88/100\n",
      "50000/50000 [==============================] - 1s 30us/step - loss: 0.0690 - acc: 0.9778 - val_loss: 4.5058 - val_acc: 0.5197\n",
      "Epoch 89/100\n",
      "50000/50000 [==============================] - 1s 29us/step - loss: 0.1031 - acc: 0.9680 - val_loss: 4.2960 - val_acc: 0.5295\n",
      "Epoch 90/100\n",
      "50000/50000 [==============================] - 1s 29us/step - loss: 0.0851 - acc: 0.9737 - val_loss: 4.2539 - val_acc: 0.5272\n",
      "Epoch 91/100\n",
      "50000/50000 [==============================] - 1s 29us/step - loss: 0.0712 - acc: 0.9771 - val_loss: 4.3899 - val_acc: 0.5205\n",
      "Epoch 92/100\n",
      "50000/50000 [==============================] - 1s 29us/step - loss: 0.0827 - acc: 0.9740 - val_loss: 4.3569 - val_acc: 0.5178\n",
      "Epoch 93/100\n",
      "50000/50000 [==============================] - 1s 29us/step - loss: 0.0677 - acc: 0.9790 - val_loss: 4.3422 - val_acc: 0.5345\n",
      "Epoch 94/100\n",
      "50000/50000 [==============================] - 1s 28us/step - loss: 0.0637 - acc: 0.9804 - val_loss: 4.3835 - val_acc: 0.5234\n",
      "Epoch 95/100\n",
      "35072/50000 [====================>.........] - ETA: 0s - loss: 0.0612 - acc: 0.9806"
     ]
    },
    {
     "ename": "KeyboardInterrupt",
     "evalue": "",
     "output_type": "error",
     "traceback": [
      "\u001b[0;31m---------------------------------------------------------------------------\u001b[0m",
      "\u001b[0;31mKeyboardInterrupt\u001b[0m                         Traceback (most recent call last)",
      "\u001b[0;32m<ipython-input-37-e1d18503adf2>\u001b[0m in \u001b[0;36m<module>\u001b[0;34m()\u001b[0m\n\u001b[1;32m      3\u001b[0m           \u001b[0mbatch_size\u001b[0m\u001b[0;34m=\u001b[0m\u001b[0mBATCH_SIZE\u001b[0m\u001b[0;34m,\u001b[0m\u001b[0;34m\u001b[0m\u001b[0m\n\u001b[1;32m      4\u001b[0m           \u001b[0mvalidation_data\u001b[0m\u001b[0;34m=\u001b[0m\u001b[0;34m(\u001b[0m\u001b[0mx_test\u001b[0m\u001b[0;34m,\u001b[0m \u001b[0my_test\u001b[0m\u001b[0;34m)\u001b[0m\u001b[0;34m,\u001b[0m\u001b[0;34m\u001b[0m\u001b[0m\n\u001b[0;32m----> 5\u001b[0;31m           shuffle=True)\n\u001b[0m",
      "\u001b[0;32m/home/tekwell/anaconda3/lib/python3.6/site-packages/keras/engine/training.py\u001b[0m in \u001b[0;36mfit\u001b[0;34m(self, x, y, batch_size, epochs, verbose, callbacks, validation_split, validation_data, shuffle, class_weight, sample_weight, initial_epoch, steps_per_epoch, validation_steps, **kwargs)\u001b[0m\n\u001b[1;32m   1703\u001b[0m                               \u001b[0minitial_epoch\u001b[0m\u001b[0;34m=\u001b[0m\u001b[0minitial_epoch\u001b[0m\u001b[0;34m,\u001b[0m\u001b[0;34m\u001b[0m\u001b[0m\n\u001b[1;32m   1704\u001b[0m                               \u001b[0msteps_per_epoch\u001b[0m\u001b[0;34m=\u001b[0m\u001b[0msteps_per_epoch\u001b[0m\u001b[0;34m,\u001b[0m\u001b[0;34m\u001b[0m\u001b[0m\n\u001b[0;32m-> 1705\u001b[0;31m                               validation_steps=validation_steps)\n\u001b[0m\u001b[1;32m   1706\u001b[0m \u001b[0;34m\u001b[0m\u001b[0m\n\u001b[1;32m   1707\u001b[0m     def evaluate(self, x=None, y=None,\n",
      "\u001b[0;32m/home/tekwell/anaconda3/lib/python3.6/site-packages/keras/engine/training.py\u001b[0m in \u001b[0;36m_fit_loop\u001b[0;34m(self, f, ins, out_labels, batch_size, epochs, verbose, callbacks, val_f, val_ins, shuffle, callback_metrics, initial_epoch, steps_per_epoch, validation_steps)\u001b[0m\n\u001b[1;32m   1234\u001b[0m                         \u001b[0mins_batch\u001b[0m\u001b[0;34m[\u001b[0m\u001b[0mi\u001b[0m\u001b[0;34m]\u001b[0m \u001b[0;34m=\u001b[0m \u001b[0mins_batch\u001b[0m\u001b[0;34m[\u001b[0m\u001b[0mi\u001b[0m\u001b[0;34m]\u001b[0m\u001b[0;34m.\u001b[0m\u001b[0mtoarray\u001b[0m\u001b[0;34m(\u001b[0m\u001b[0;34m)\u001b[0m\u001b[0;34m\u001b[0m\u001b[0m\n\u001b[1;32m   1235\u001b[0m \u001b[0;34m\u001b[0m\u001b[0m\n\u001b[0;32m-> 1236\u001b[0;31m                     \u001b[0mouts\u001b[0m \u001b[0;34m=\u001b[0m \u001b[0mf\u001b[0m\u001b[0;34m(\u001b[0m\u001b[0mins_batch\u001b[0m\u001b[0;34m)\u001b[0m\u001b[0;34m\u001b[0m\u001b[0m\n\u001b[0m\u001b[1;32m   1237\u001b[0m                     \u001b[0;32mif\u001b[0m \u001b[0;32mnot\u001b[0m \u001b[0misinstance\u001b[0m\u001b[0;34m(\u001b[0m\u001b[0mouts\u001b[0m\u001b[0;34m,\u001b[0m \u001b[0mlist\u001b[0m\u001b[0;34m)\u001b[0m\u001b[0;34m:\u001b[0m\u001b[0;34m\u001b[0m\u001b[0m\n\u001b[1;32m   1238\u001b[0m                         \u001b[0mouts\u001b[0m \u001b[0;34m=\u001b[0m \u001b[0;34m[\u001b[0m\u001b[0mouts\u001b[0m\u001b[0;34m]\u001b[0m\u001b[0;34m\u001b[0m\u001b[0m\n",
      "\u001b[0;32m/home/tekwell/anaconda3/lib/python3.6/site-packages/keras/backend/tensorflow_backend.py\u001b[0m in \u001b[0;36m__call__\u001b[0;34m(self, inputs)\u001b[0m\n\u001b[1;32m   2480\u001b[0m         \u001b[0msession\u001b[0m \u001b[0;34m=\u001b[0m \u001b[0mget_session\u001b[0m\u001b[0;34m(\u001b[0m\u001b[0;34m)\u001b[0m\u001b[0;34m\u001b[0m\u001b[0m\n\u001b[1;32m   2481\u001b[0m         updated = session.run(fetches=fetches, feed_dict=feed_dict,\n\u001b[0;32m-> 2482\u001b[0;31m                               **self.session_kwargs)\n\u001b[0m\u001b[1;32m   2483\u001b[0m         \u001b[0;32mreturn\u001b[0m \u001b[0mupdated\u001b[0m\u001b[0;34m[\u001b[0m\u001b[0;34m:\u001b[0m\u001b[0mlen\u001b[0m\u001b[0;34m(\u001b[0m\u001b[0mself\u001b[0m\u001b[0;34m.\u001b[0m\u001b[0moutputs\u001b[0m\u001b[0;34m)\u001b[0m\u001b[0;34m]\u001b[0m\u001b[0;34m\u001b[0m\u001b[0m\n\u001b[1;32m   2484\u001b[0m \u001b[0;34m\u001b[0m\u001b[0m\n",
      "\u001b[0;32m/home/tekwell/anaconda3/lib/python3.6/site-packages/tensorflow/python/client/session.py\u001b[0m in \u001b[0;36mrun\u001b[0;34m(self, fetches, feed_dict, options, run_metadata)\u001b[0m\n\u001b[1;32m    903\u001b[0m     \u001b[0;32mtry\u001b[0m\u001b[0;34m:\u001b[0m\u001b[0;34m\u001b[0m\u001b[0m\n\u001b[1;32m    904\u001b[0m       result = self._run(None, fetches, feed_dict, options_ptr,\n\u001b[0;32m--> 905\u001b[0;31m                          run_metadata_ptr)\n\u001b[0m\u001b[1;32m    906\u001b[0m       \u001b[0;32mif\u001b[0m \u001b[0mrun_metadata\u001b[0m\u001b[0;34m:\u001b[0m\u001b[0;34m\u001b[0m\u001b[0m\n\u001b[1;32m    907\u001b[0m         \u001b[0mproto_data\u001b[0m \u001b[0;34m=\u001b[0m \u001b[0mtf_session\u001b[0m\u001b[0;34m.\u001b[0m\u001b[0mTF_GetBuffer\u001b[0m\u001b[0;34m(\u001b[0m\u001b[0mrun_metadata_ptr\u001b[0m\u001b[0;34m)\u001b[0m\u001b[0;34m\u001b[0m\u001b[0m\n",
      "\u001b[0;32m/home/tekwell/anaconda3/lib/python3.6/site-packages/tensorflow/python/client/session.py\u001b[0m in \u001b[0;36m_run\u001b[0;34m(self, handle, fetches, feed_dict, options, run_metadata)\u001b[0m\n\u001b[1;32m   1107\u001b[0m             \u001b[0mfeed_handles\u001b[0m\u001b[0;34m[\u001b[0m\u001b[0msubfeed_t\u001b[0m\u001b[0;34m]\u001b[0m \u001b[0;34m=\u001b[0m \u001b[0msubfeed_val\u001b[0m\u001b[0;34m\u001b[0m\u001b[0m\n\u001b[1;32m   1108\u001b[0m           \u001b[0;32melse\u001b[0m\u001b[0;34m:\u001b[0m\u001b[0;34m\u001b[0m\u001b[0m\n\u001b[0;32m-> 1109\u001b[0;31m             \u001b[0mnp_val\u001b[0m \u001b[0;34m=\u001b[0m \u001b[0mnp\u001b[0m\u001b[0;34m.\u001b[0m\u001b[0masarray\u001b[0m\u001b[0;34m(\u001b[0m\u001b[0msubfeed_val\u001b[0m\u001b[0;34m,\u001b[0m \u001b[0mdtype\u001b[0m\u001b[0;34m=\u001b[0m\u001b[0msubfeed_dtype\u001b[0m\u001b[0;34m)\u001b[0m\u001b[0;34m\u001b[0m\u001b[0m\n\u001b[0m\u001b[1;32m   1110\u001b[0m \u001b[0;34m\u001b[0m\u001b[0m\n\u001b[1;32m   1111\u001b[0m           if (not is_tensor_handle_feed and\n",
      "\u001b[0;32m/home/tekwell/anaconda3/lib/python3.6/site-packages/numpy/core/numeric.py\u001b[0m in \u001b[0;36masarray\u001b[0;34m(a, dtype, order)\u001b[0m\n\u001b[1;32m    536\u001b[0m \u001b[0;34m\u001b[0m\u001b[0m\n\u001b[1;32m    537\u001b[0m     \"\"\"\n\u001b[0;32m--> 538\u001b[0;31m     \u001b[0;32mreturn\u001b[0m \u001b[0marray\u001b[0m\u001b[0;34m(\u001b[0m\u001b[0ma\u001b[0m\u001b[0;34m,\u001b[0m \u001b[0mdtype\u001b[0m\u001b[0;34m,\u001b[0m \u001b[0mcopy\u001b[0m\u001b[0;34m=\u001b[0m\u001b[0;32mFalse\u001b[0m\u001b[0;34m,\u001b[0m \u001b[0morder\u001b[0m\u001b[0;34m=\u001b[0m\u001b[0morder\u001b[0m\u001b[0;34m)\u001b[0m\u001b[0;34m\u001b[0m\u001b[0m\n\u001b[0m\u001b[1;32m    539\u001b[0m \u001b[0;34m\u001b[0m\u001b[0m\n\u001b[1;32m    540\u001b[0m \u001b[0;34m\u001b[0m\u001b[0m\n",
      "\u001b[0;31mKeyboardInterrupt\u001b[0m: "
     ]
    }
   ],
   "source": [
    "model.fit(x_train, y_train, \n",
    "          epochs=EPOCHS, \n",
    "          batch_size=BATCH_SIZE, \n",
    "          validation_data=(x_test, y_test), \n",
    "          shuffle=True)"
   ]
  },
  {
   "cell_type": "code",
   "execution_count": 38,
   "metadata": {},
   "outputs": [
    {
     "data": {
      "image/png": "[encoded data removed]",
      "text/plain": [
       "<matplotlib.figure.Figure at 0x7f4aebaa9710>"
      ]
     },
     "metadata": {},
     "output_type": "display_data"
    },
    {
     "data": {
      "image/png": "[encoded data removed]",
      "text/plain": [
       "<matplotlib.figure.Figure at 0x7f4aeba419e8>"
      ]
     },
     "metadata": {},
     "output_type": "display_data"
    }
   ],
   "source": [
    "import matplotlib.pyplot as plt\n",
    "\n",
    "\n",
    "train_loss = model.history.history[\"loss\"]\n",
    "valid_loss = model.history.history[\"val_loss\"]\n",
    "\n",
    "train_acc = model.history.history[\"acc\"]\n",
    "valid_acc = model.history.history[\"val_acc\"]\n",
    "\n",
    "plt.plot(range(len(train_loss)), train_loss, label=\"train loss\")\n",
    "plt.plot(range(len(valid_loss)), valid_loss, label=\"valid loss\")\n",
    "plt.legend()\n",
    "plt.title(\"Loss\")\n",
    "plt.show()\n",
    "\n",
    "plt.plot(range(len(train_acc)), train_acc, label=\"train accuracy\")\n",
    "plt.plot(range(len(valid_acc)), valid_acc, label=\"valid accuracy\")\n",
    "plt.legend()\n",
    "plt.title(\"Accuracy\")\n",
    "plt.show()"
   ]
  },
  {
   "cell_type": "code",
   "execution_count": 39,
   "metadata": {
    "collapsed": true
   },
   "outputs": [],
   "source": [
    "keras.backend.clear_session()"
   ]
  },
  {
   "cell_type": "code",
   "execution_count": 40,
   "metadata": {
    "collapsed": true
   },
   "outputs": [],
   "source": [
    "def build_mlp(input_shape, output_units=10, num_neurons=[512, 256, 128, 64, 32, 16 ]):\n",
    "    input_layer = keras.layers.Input(input_shape)\n",
    "    \n",
    "    for i, n_units in enumerate(num_neurons):\n",
    "        if i == 0:\n",
    "            x = keras.layers.Dense(units=n_units, activation=\"relu\", name=\"hidden_layer\"+str(i+1))(input_layer)\n",
    "        else:\n",
    "            x = keras.layers.Dense(units=n_units, activation=\"relu\", name=\"hidden_layer\"+str(i+1))(x)\n",
    "    \n",
    "    out = keras.layers.Dense(units=output_units, activation=\"softmax\", name=\"output\")(x)\n",
    "    \n",
    "    model = keras.models.Model(inputs=[input_layer], outputs=[out])\n",
    "    return model\n"
   ]
  },
  {
   "cell_type": "code",
   "execution_count": 41,
   "metadata": {},
   "outputs": [
    {
     "name": "stdout",
     "output_type": "stream",
     "text": [
      "_________________________________________________________________\n",
      "Layer (type)                 Output Shape              Param #   \n",
      "=================================================================\n",
      "input_1 (InputLayer)         (None, 3072)              0         \n",
      "_________________________________________________________________\n",
      "hidden_layer1 (Dense)        (None, 512)               1573376   \n",
      "_________________________________________________________________\n",
      "hidden_layer2 (Dense)        (None, 256)               131328    \n",
      "_________________________________________________________________\n",
      "hidden_layer3 (Dense)        (None, 128)               32896     \n",
      "_________________________________________________________________\n",
      "hidden_layer4 (Dense)        (None, 64)                8256      \n",
      "_________________________________________________________________\n",
      "hidden_layer5 (Dense)        (None, 32)                2080      \n",
      "_________________________________________________________________\n",
      "hidden_layer6 (Dense)        (None, 16)                528       \n",
      "_________________________________________________________________\n",
      "output (Dense)               (None, 10)                170       \n",
      "=================================================================\n",
      "Total params: 1,748,634\n",
      "Trainable params: 1,748,634\n",
      "Non-trainable params: 0\n",
      "_________________________________________________________________\n"
     ]
    }
   ],
   "source": [
    "model = build_mlp(input_shape=x_train.shape[1:])\n",
    "model.summary()"
   ]
  },
  {
   "cell_type": "code",
   "execution_count": 42,
   "metadata": {
    "collapsed": true
   },
   "outputs": [],
   "source": [
    "optimizer = keras.optimizers.Adam(lr=LEARNING_RATE)\n",
    "model.compile(loss=\"categorical_crossentropy\", metrics=[\"accuracy\"], optimizer=optimizer)"
   ]
  },
  {
   "cell_type": "code",
   "execution_count": 43,
   "metadata": {
    "scrolled": true
   },
   "outputs": [
    {
     "name": "stdout",
     "output_type": "stream",
     "text": [
      "Train on 50000 samples, validate on 10000 samples\n",
      "Epoch 1/100\n",
      "50000/50000 [==============================] - 2s 38us/step - loss: 1.8431 - acc: 0.3440 - val_loss: 1.6207 - val_acc: 0.4331\n",
      "Epoch 2/100\n",
      "50000/50000 [==============================] - 2s 33us/step - loss: 1.5524 - acc: 0.4499 - val_loss: 1.5576 - val_acc: 0.4457\n",
      "Epoch 3/100\n",
      "50000/50000 [==============================] - 2s 33us/step - loss: 1.4296 - acc: 0.4951 - val_loss: 1.4535 - val_acc: 0.4894\n",
      "Epoch 4/100\n",
      "50000/50000 [==============================] - 2s 33us/step - loss: 1.3303 - acc: 0.5303 - val_loss: 1.4263 - val_acc: 0.4981\n",
      "Epoch 5/100\n",
      "50000/50000 [==============================] - 2s 32us/step - loss: 1.2471 - acc: 0.5593 - val_loss: 1.3828 - val_acc: 0.5129\n",
      "Epoch 6/100\n",
      "50000/50000 [==============================] - 2s 32us/step - loss: 1.1697 - acc: 0.5864 - val_loss: 1.3688 - val_acc: 0.5210\n",
      "Epoch 7/100\n",
      "50000/50000 [==============================] - 2s 34us/step - loss: 1.0946 - acc: 0.6120 - val_loss: 1.3676 - val_acc: 0.5301\n",
      "Epoch 8/100\n",
      "50000/50000 [==============================] - 2s 33us/step - loss: 1.0228 - acc: 0.6378 - val_loss: 1.4309 - val_acc: 0.5222\n",
      "Epoch 9/100\n",
      "50000/50000 [==============================] - 2s 32us/step - loss: 0.9566 - acc: 0.6609 - val_loss: 1.4060 - val_acc: 0.5375\n",
      "Epoch 10/100\n",
      "50000/50000 [==============================] - 2s 32us/step - loss: 0.8927 - acc: 0.6833 - val_loss: 1.4541 - val_acc: 0.5310\n",
      "Epoch 11/100\n",
      "50000/50000 [==============================] - 2s 32us/step - loss: 0.8250 - acc: 0.7086 - val_loss: 1.4733 - val_acc: 0.5413\n",
      "Epoch 12/100\n",
      "50000/50000 [==============================] - 2s 32us/step - loss: 0.7750 - acc: 0.7237 - val_loss: 1.5012 - val_acc: 0.5339\n",
      "Epoch 13/100\n",
      "50000/50000 [==============================] - 2s 32us/step - loss: 0.7089 - acc: 0.7490 - val_loss: 1.5911 - val_acc: 0.5248\n",
      "Epoch 14/100\n",
      "50000/50000 [==============================] - 2s 32us/step - loss: 0.6535 - acc: 0.7684 - val_loss: 1.6346 - val_acc: 0.5270\n",
      "Epoch 15/100\n",
      "50000/50000 [==============================] - 2s 33us/step - loss: 0.6115 - acc: 0.7817 - val_loss: 1.7005 - val_acc: 0.5302\n",
      "Epoch 16/100\n",
      "50000/50000 [==============================] - 2s 32us/step - loss: 0.5623 - acc: 0.8014 - val_loss: 1.7948 - val_acc: 0.5325\n",
      "Epoch 17/100\n",
      "50000/50000 [==============================] - 2s 33us/step - loss: 0.5054 - acc: 0.8206 - val_loss: 1.8606 - val_acc: 0.5246\n",
      "Epoch 18/100\n",
      "50000/50000 [==============================] - 2s 32us/step - loss: 0.4788 - acc: 0.8294 - val_loss: 1.9042 - val_acc: 0.5259\n",
      "Epoch 19/100\n",
      "50000/50000 [==============================] - 2s 33us/step - loss: 0.4508 - acc: 0.8406 - val_loss: 1.9773 - val_acc: 0.5270\n",
      "Epoch 20/100\n",
      "50000/50000 [==============================] - 2s 32us/step - loss: 0.4094 - acc: 0.8546 - val_loss: 2.1335 - val_acc: 0.5291\n",
      "Epoch 21/100\n",
      "50000/50000 [==============================] - 2s 32us/step - loss: 0.3755 - acc: 0.8668 - val_loss: 2.2753 - val_acc: 0.5216\n",
      "Epoch 22/100\n",
      "50000/50000 [==============================] - 2s 32us/step - loss: 0.3642 - acc: 0.8733 - val_loss: 2.2490 - val_acc: 0.5317\n",
      "Epoch 23/100\n",
      "50000/50000 [==============================] - 2s 32us/step - loss: 0.3419 - acc: 0.8785 - val_loss: 2.2836 - val_acc: 0.5260\n",
      "Epoch 24/100\n",
      "50000/50000 [==============================] - 2s 33us/step - loss: 0.3075 - acc: 0.8915 - val_loss: 2.3865 - val_acc: 0.5326\n",
      "Epoch 25/100\n",
      "50000/50000 [==============================] - 2s 32us/step - loss: 0.2997 - acc: 0.8948 - val_loss: 2.4306 - val_acc: 0.5243\n",
      "Epoch 26/100\n",
      "50000/50000 [==============================] - 2s 33us/step - loss: 0.2690 - acc: 0.9044 - val_loss: 2.5655 - val_acc: 0.5251\n",
      "Epoch 27/100\n",
      "50000/50000 [==============================] - 2s 33us/step - loss: 0.2565 - acc: 0.9098 - val_loss: 2.6074 - val_acc: 0.5227\n",
      "Epoch 28/100\n",
      "50000/50000 [==============================] - 2s 33us/step - loss: 0.2531 - acc: 0.9118 - val_loss: 2.6432 - val_acc: 0.5275\n",
      "Epoch 29/100\n",
      "50000/50000 [==============================] - 2s 33us/step - loss: 0.2409 - acc: 0.9163 - val_loss: 2.6650 - val_acc: 0.5333\n",
      "Epoch 30/100\n",
      "50000/50000 [==============================] - 2s 32us/step - loss: 0.2108 - acc: 0.9265 - val_loss: 2.7543 - val_acc: 0.5285\n",
      "Epoch 31/100\n",
      "50000/50000 [==============================] - 2s 33us/step - loss: 0.2175 - acc: 0.9248 - val_loss: 2.7445 - val_acc: 0.5237\n",
      "Epoch 32/100\n",
      "50000/50000 [==============================] - 2s 34us/step - loss: 0.2040 - acc: 0.9302 - val_loss: 2.9037 - val_acc: 0.5250\n",
      "Epoch 33/100\n",
      "50000/50000 [==============================] - 2s 35us/step - loss: 0.1917 - acc: 0.9344 - val_loss: 2.9512 - val_acc: 0.5248\n",
      "Epoch 34/100\n",
      "50000/50000 [==============================] - 2s 32us/step - loss: 0.1983 - acc: 0.9312 - val_loss: 2.9515 - val_acc: 0.5295\n",
      "Epoch 35/100\n",
      "50000/50000 [==============================] - 2s 33us/step - loss: 0.1875 - acc: 0.9349 - val_loss: 3.0552 - val_acc: 0.5248\n",
      "Epoch 36/100\n",
      "50000/50000 [==============================] - 2s 32us/step - loss: 0.1692 - acc: 0.9423 - val_loss: 2.9787 - val_acc: 0.5264\n",
      "Epoch 37/100\n",
      "50000/50000 [==============================] - 2s 32us/step - loss: 0.1653 - acc: 0.9437 - val_loss: 3.1708 - val_acc: 0.5327\n",
      "Epoch 38/100\n",
      "50000/50000 [==============================] - 2s 32us/step - loss: 0.1672 - acc: 0.9420 - val_loss: 3.1851 - val_acc: 0.5232\n",
      "Epoch 39/100\n",
      "50000/50000 [==============================] - 2s 32us/step - loss: 0.1665 - acc: 0.9437 - val_loss: 3.0894 - val_acc: 0.5285\n",
      "Epoch 40/100\n",
      "50000/50000 [==============================] - 2s 32us/step - loss: 0.1489 - acc: 0.9495 - val_loss: 3.1534 - val_acc: 0.5240\n",
      "Epoch 41/100\n",
      "50000/50000 [==============================] - 2s 32us/step - loss: 0.1632 - acc: 0.9445 - val_loss: 3.2452 - val_acc: 0.5259\n",
      "Epoch 42/100\n",
      "50000/50000 [==============================] - 2s 33us/step - loss: 0.1585 - acc: 0.9466 - val_loss: 3.2381 - val_acc: 0.5250\n",
      "Epoch 43/100\n",
      "50000/50000 [==============================] - 2s 32us/step - loss: 0.1514 - acc: 0.9486 - val_loss: 3.1958 - val_acc: 0.5238\n",
      "Epoch 44/100\n",
      "50000/50000 [==============================] - 2s 32us/step - loss: 0.1288 - acc: 0.9570 - val_loss: 3.3126 - val_acc: 0.5210\n",
      "Epoch 45/100\n",
      "50000/50000 [==============================] - 2s 33us/step - loss: 0.1368 - acc: 0.9537 - val_loss: 3.4142 - val_acc: 0.5246\n",
      "Epoch 46/100\n",
      "50000/50000 [==============================] - 2s 33us/step - loss: 0.1458 - acc: 0.9527 - val_loss: 3.3074 - val_acc: 0.5229\n",
      "Epoch 47/100\n",
      "50000/50000 [==============================] - 2s 33us/step - loss: 0.1195 - acc: 0.9608 - val_loss: 3.5248 - val_acc: 0.5310\n",
      "Epoch 48/100\n",
      "50000/50000 [==============================] - 2s 33us/step - loss: 0.1334 - acc: 0.9568 - val_loss: 3.3701 - val_acc: 0.5291\n",
      "Epoch 49/100\n",
      "50000/50000 [==============================] - 2s 32us/step - loss: 0.1291 - acc: 0.9556 - val_loss: 3.4669 - val_acc: 0.5180\n",
      "Epoch 50/100\n",
      "50000/50000 [==============================] - 2s 32us/step - loss: 0.1216 - acc: 0.9595 - val_loss: 3.5540 - val_acc: 0.5196\n",
      "Epoch 51/100\n",
      "50000/50000 [==============================] - 2s 32us/step - loss: 0.1376 - acc: 0.9536 - val_loss: 3.4479 - val_acc: 0.5252\n",
      "Epoch 52/100\n",
      "50000/50000 [==============================] - 2s 32us/step - loss: 0.1185 - acc: 0.9611 - val_loss: 3.4365 - val_acc: 0.5224\n",
      "Epoch 53/100\n",
      "50000/50000 [==============================] - 2s 31us/step - loss: 0.1294 - acc: 0.9563 - val_loss: 3.4886 - val_acc: 0.5290\n",
      "Epoch 54/100\n",
      "50000/50000 [==============================] - 2s 32us/step - loss: 0.0997 - acc: 0.9659 - val_loss: 3.5247 - val_acc: 0.5278\n",
      "Epoch 55/100\n",
      "50000/50000 [==============================] - 2s 33us/step - loss: 0.1034 - acc: 0.9660 - val_loss: 3.6151 - val_acc: 0.5201\n",
      "Epoch 56/100\n",
      "50000/50000 [==============================] - 2s 33us/step - loss: 0.1039 - acc: 0.9651 - val_loss: 3.6422 - val_acc: 0.5293\n",
      "Epoch 57/100\n",
      "50000/50000 [==============================] - 2s 33us/step - loss: 0.1191 - acc: 0.9604 - val_loss: 3.5434 - val_acc: 0.5261\n",
      "Epoch 58/100\n",
      "50000/50000 [==============================] - 2s 32us/step - loss: 0.1117 - acc: 0.9638 - val_loss: 3.5359 - val_acc: 0.5250\n",
      "Epoch 59/100\n"
     ]
    },
    {
     "name": "stdout",
     "output_type": "stream",
     "text": [
      "50000/50000 [==============================] - 2s 33us/step - loss: 0.0980 - acc: 0.9671 - val_loss: 3.6019 - val_acc: 0.5195\n",
      "Epoch 60/100\n",
      "50000/50000 [==============================] - 2s 32us/step - loss: 0.1078 - acc: 0.9639 - val_loss: 3.5069 - val_acc: 0.5253\n",
      "Epoch 61/100\n",
      "50000/50000 [==============================] - 2s 32us/step - loss: 0.0963 - acc: 0.9673 - val_loss: 3.5798 - val_acc: 0.5306\n",
      "Epoch 62/100\n",
      "50000/50000 [==============================] - 2s 32us/step - loss: 0.0758 - acc: 0.9747 - val_loss: 3.7213 - val_acc: 0.5279\n",
      "Epoch 63/100\n",
      "50000/50000 [==============================] - 2s 33us/step - loss: 0.1219 - acc: 0.9608 - val_loss: 3.5764 - val_acc: 0.5290\n",
      "Epoch 64/100\n",
      "50000/50000 [==============================] - 2s 33us/step - loss: 0.1040 - acc: 0.9665 - val_loss: 3.5636 - val_acc: 0.5243\n",
      "Epoch 65/100\n",
      "50000/50000 [==============================] - 2s 33us/step - loss: 0.0762 - acc: 0.9743 - val_loss: 3.8506 - val_acc: 0.5240\n",
      "Epoch 66/100\n",
      "50000/50000 [==============================] - 2s 33us/step - loss: 0.0820 - acc: 0.9729 - val_loss: 3.7610 - val_acc: 0.5265\n",
      "Epoch 67/100\n",
      "50000/50000 [==============================] - 2s 33us/step - loss: 0.1087 - acc: 0.9642 - val_loss: 3.7982 - val_acc: 0.5219\n",
      "Epoch 68/100\n",
      "50000/50000 [==============================] - 2s 33us/step - loss: 0.0940 - acc: 0.9693 - val_loss: 3.7680 - val_acc: 0.5217\n",
      "Epoch 69/100\n",
      "50000/50000 [==============================] - 2s 33us/step - loss: 0.0682 - acc: 0.9777 - val_loss: 3.8323 - val_acc: 0.5257\n",
      "Epoch 70/100\n",
      "50000/50000 [==============================] - 2s 33us/step - loss: 0.1020 - acc: 0.9669 - val_loss: 3.6747 - val_acc: 0.5252\n",
      "Epoch 71/100\n",
      "50000/50000 [==============================] - 2s 33us/step - loss: 0.0972 - acc: 0.9685 - val_loss: 3.7154 - val_acc: 0.5273\n",
      "Epoch 72/100\n",
      "50000/50000 [==============================] - 2s 33us/step - loss: 0.0862 - acc: 0.9719 - val_loss: 3.7739 - val_acc: 0.5289\n",
      "Epoch 73/100\n",
      "50000/50000 [==============================] - 2s 33us/step - loss: 0.0905 - acc: 0.9718 - val_loss: 3.7657 - val_acc: 0.5227\n",
      "Epoch 74/100\n",
      "50000/50000 [==============================] - 2s 33us/step - loss: 0.0753 - acc: 0.9754 - val_loss: 3.8011 - val_acc: 0.5247\n",
      "Epoch 75/100\n",
      "50000/50000 [==============================] - 2s 33us/step - loss: 0.0755 - acc: 0.9744 - val_loss: 3.7934 - val_acc: 0.5300\n",
      "Epoch 76/100\n",
      "50000/50000 [==============================] - 2s 33us/step - loss: 0.0872 - acc: 0.9718 - val_loss: 3.7689 - val_acc: 0.5193\n",
      "Epoch 77/100\n",
      "50000/50000 [==============================] - 2s 33us/step - loss: 0.0759 - acc: 0.9751 - val_loss: 3.8627 - val_acc: 0.5193\n",
      "Epoch 78/100\n",
      "50000/50000 [==============================] - 2s 33us/step - loss: 0.1011 - acc: 0.9675 - val_loss: 3.7390 - val_acc: 0.5291\n",
      "Epoch 79/100\n",
      "50000/50000 [==============================] - 2s 32us/step - loss: 0.0680 - acc: 0.9780 - val_loss: 3.9120 - val_acc: 0.5317\n",
      "Epoch 80/100\n",
      "50000/50000 [==============================] - 2s 32us/step - loss: 0.0714 - acc: 0.9770 - val_loss: 3.8818 - val_acc: 0.5199\n",
      "Epoch 81/100\n",
      "50000/50000 [==============================] - 2s 33us/step - loss: 0.0774 - acc: 0.9749 - val_loss: 3.7578 - val_acc: 0.5269\n",
      "Epoch 82/100\n",
      "50000/50000 [==============================] - 2s 33us/step - loss: 0.0770 - acc: 0.9741 - val_loss: 3.8173 - val_acc: 0.5229\n",
      "Epoch 83/100\n",
      "50000/50000 [==============================] - 2s 33us/step - loss: 0.0808 - acc: 0.9739 - val_loss: 3.8129 - val_acc: 0.5224\n",
      "Epoch 84/100\n",
      "50000/50000 [==============================] - 2s 32us/step - loss: 0.0712 - acc: 0.9769 - val_loss: 3.8555 - val_acc: 0.5248\n",
      "Epoch 85/100\n",
      "50000/50000 [==============================] - 2s 33us/step - loss: 0.0630 - acc: 0.9795 - val_loss: 3.9445 - val_acc: 0.5282\n",
      "Epoch 86/100\n",
      "50000/50000 [==============================] - 2s 32us/step - loss: 0.0842 - acc: 0.9731 - val_loss: 3.8191 - val_acc: 0.5213\n",
      "Epoch 87/100\n",
      "50000/50000 [==============================] - 2s 33us/step - loss: 0.0930 - acc: 0.9700 - val_loss: 3.7497 - val_acc: 0.5274\n",
      "Epoch 88/100\n",
      "50000/50000 [==============================] - 2s 32us/step - loss: 0.0678 - acc: 0.9780 - val_loss: 3.8444 - val_acc: 0.5299\n",
      "Epoch 89/100\n",
      "50000/50000 [==============================] - 2s 33us/step - loss: 0.0478 - acc: 0.9838 - val_loss: 3.9169 - val_acc: 0.5309\n",
      "Epoch 90/100\n",
      "50000/50000 [==============================] - 2s 33us/step - loss: 0.0820 - acc: 0.9735 - val_loss: 3.8269 - val_acc: 0.5200\n",
      "Epoch 91/100\n",
      "50000/50000 [==============================] - 2s 32us/step - loss: 0.0836 - acc: 0.9727 - val_loss: 3.9050 - val_acc: 0.5212\n",
      "Epoch 92/100\n",
      "50000/50000 [==============================] - 2s 32us/step - loss: 0.0687 - acc: 0.9782 - val_loss: 3.9548 - val_acc: 0.5267\n",
      "Epoch 93/100\n",
      "50000/50000 [==============================] - 2s 33us/step - loss: 0.0649 - acc: 0.9788 - val_loss: 3.9675 - val_acc: 0.5302\n",
      "Epoch 94/100\n",
      "50000/50000 [==============================] - 2s 32us/step - loss: 0.0592 - acc: 0.9814 - val_loss: 3.9685 - val_acc: 0.5252\n",
      "Epoch 95/100\n",
      "50000/50000 [==============================] - 2s 32us/step - loss: 0.0782 - acc: 0.9756 - val_loss: 3.8173 - val_acc: 0.5280\n",
      "Epoch 96/100\n",
      "50000/50000 [==============================] - 2s 32us/step - loss: 0.0599 - acc: 0.9802 - val_loss: 3.9577 - val_acc: 0.5273\n",
      "Epoch 97/100\n",
      "50000/50000 [==============================] - 2s 33us/step - loss: 0.0685 - acc: 0.9779 - val_loss: 3.9527 - val_acc: 0.5264\n",
      "Epoch 98/100\n",
      "50000/50000 [==============================] - 2s 33us/step - loss: 0.0589 - acc: 0.9813 - val_loss: 3.9493 - val_acc: 0.5256\n",
      "Epoch 99/100\n",
      "50000/50000 [==============================] - 2s 33us/step - loss: 0.0785 - acc: 0.9747 - val_loss: 3.9252 - val_acc: 0.5336\n",
      "Epoch 100/100\n",
      "50000/50000 [==============================] - 2s 32us/step - loss: 0.0614 - acc: 0.9802 - val_loss: 3.8650 - val_acc: 0.5242\n"
     ]
    },
    {
     "data": {
      "text/plain": [
       "<keras.callbacks.History at 0x7f4aeb690668>"
      ]
     },
     "execution_count": 43,
     "metadata": {},
     "output_type": "execute_result"
    }
   ],
   "source": [
    "model.fit(x_train, y_train, \n",
    "          epochs=EPOCHS, \n",
    "          batch_size=BATCH_SIZE, \n",
    "          validation_data=(x_test, y_test), \n",
    "          shuffle=True)"
   ]
  },
  {
   "cell_type": "code",
   "execution_count": 44,
   "metadata": {},
   "outputs": [
    {
     "data": {
      "image/png": "[encoded data removed]",
      "text/plain": [
       "<matplotlib.figure.Figure at 0x7f4ae5fcfc88>"
      ]
     },
     "metadata": {},
     "output_type": "display_data"
    },
    {
     "data": {
      "image/png": "[encoded data removed]",
      "text/plain": [
       "<matplotlib.figure.Figure at 0x7f4aeb7930b8>"
      ]
     },
     "metadata": {},
     "output_type": "display_data"
    }
   ],
   "source": [
    "import matplotlib.pyplot as plt\n",
    "\n",
    "\n",
    "train_loss = model.history.history[\"loss\"]\n",
    "valid_loss = model.history.history[\"val_loss\"]\n",
    "\n",
    "train_acc = model.history.history[\"acc\"]\n",
    "valid_acc = model.history.history[\"val_acc\"]\n",
    "\n",
    "plt.plot(range(len(train_loss)), train_loss, label=\"train loss\")\n",
    "plt.plot(range(len(valid_loss)), valid_loss, label=\"valid loss\")\n",
    "plt.legend()\n",
    "plt.title(\"Loss\")\n",
    "plt.show()\n",
    "\n",
    "plt.plot(range(len(train_acc)), train_acc, label=\"train accuracy\")\n",
    "plt.plot(range(len(valid_acc)), valid_acc, label=\"valid accuracy\")\n",
    "plt.legend()\n",
    "plt.title(\"Accuracy\")\n",
    "plt.show()"
   ]
  }
 ],
 "metadata": {
  "kernelspec": {
   "display_name": "Python 3",
   "language": "python",
   "name": "python3"
  },
  "language_info": {
   "codemirror_mode": {
    "name": "ipython",
    "version": 3
   },
   "file_extension": ".py",
   "mimetype": "text/x-python",
   "name": "python",
   "nbconvert_exporter": "python",
   "pygments_lexer": "ipython3",
   "version": "3.6.1"
  }
 },
 "nbformat": 4,
 "nbformat_minor": 2
}
