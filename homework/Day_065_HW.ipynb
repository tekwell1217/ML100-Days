{
 "cells": [
  {
   "cell_type": "markdown",
   "metadata": {},
   "source": [
    "# 作業:\n",
    "嘗試調整參數:  \n",
    "sg:sg=1表示採用skip-gram,sg=0 表示採用cbow  \n",
    "window:能往左往右看幾個字的意思 "
   ]
  },
  {
   "cell_type": "code",
   "execution_count": 1,
   "metadata": {},
   "outputs": [],
   "source": [
    "import gensim, logging\n",
    "from gensim.models import word2vec"
   ]
  },
  {
   "cell_type": "code",
   "execution_count": 69,
   "metadata": {},
   "outputs": [],
   "source": [
    "logging.basicConfig(format='%(asctime)s : %(levelname)s : %(message)s', level=logging.INFO)  \n",
    "sentences = [['I am a hero', 'sentence'], ['She is a teacher', 'sentence']] \n",
    "\n",
    "# train word2vec on the two sentences  \n",
    "\n",
    "# sg=0 表示COBW, sg=1 表示skip-gram"
   ]
  },
  {
   "cell_type": "code",
   "execution_count": 70,
   "metadata": {},
   "outputs": [
    {
     "name": "stderr",
     "output_type": "stream",
     "text": [
      "2019-03-16 22:50:01,950 : INFO : collecting all words and their counts\n",
      "2019-03-16 22:50:01,951 : INFO : PROGRESS: at sentence #0, processed 0 words, keeping 0 word types\n",
      "2019-03-16 22:50:01,953 : INFO : collected 3 word types from a corpus of 4 raw words and 2 sentences\n",
      "2019-03-16 22:50:01,954 : INFO : Loading a fresh vocabulary\n",
      "2019-03-16 22:50:01,954 : INFO : effective_min_count=1 retains 3 unique words (100% of original 3, drops 0)\n",
      "2019-03-16 22:50:01,955 : INFO : effective_min_count=1 leaves 4 word corpus (100% of original 4, drops 0)\n",
      "2019-03-16 22:50:01,956 : INFO : deleting the raw counts dictionary of 3 items\n",
      "2019-03-16 22:50:01,958 : INFO : sample=0.001 downsamples 3 most-common words\n",
      "2019-03-16 22:50:01,959 : INFO : downsampling leaves estimated 0 word corpus (5.7% of prior 4)\n",
      "2019-03-16 22:50:01,960 : INFO : estimated required memory for 3 words and 256 dimensions: 7644 bytes\n",
      "2019-03-16 22:50:01,961 : INFO : resetting layer weights\n",
      "2019-03-16 22:50:01,962 : INFO : training model with 4 workers on 3 vocabulary and 256 features, using sg=1 hs=0 sample=0.001 negative=5 window=5\n",
      "2019-03-16 22:50:01,979 : INFO : worker thread finished; awaiting finish of 3 more threads\n",
      "2019-03-16 22:50:01,980 : INFO : worker thread finished; awaiting finish of 2 more threads\n",
      "2019-03-16 22:50:01,981 : INFO : worker thread finished; awaiting finish of 1 more threads\n",
      "2019-03-16 22:50:01,983 : INFO : worker thread finished; awaiting finish of 0 more threads\n",
      "2019-03-16 22:50:01,984 : INFO : EPOCH - 1 : training on 4 raw words (0 effective words) took 0.0s, 0 effective words/s\n",
      "2019-03-16 22:50:01,997 : INFO : worker thread finished; awaiting finish of 3 more threads\n",
      "2019-03-16 22:50:01,998 : INFO : worker thread finished; awaiting finish of 2 more threads\n",
      "2019-03-16 22:50:01,999 : INFO : worker thread finished; awaiting finish of 1 more threads\n",
      "2019-03-16 22:50:02,000 : INFO : worker thread finished; awaiting finish of 0 more threads\n",
      "2019-03-16 22:50:02,001 : INFO : EPOCH - 2 : training on 4 raw words (0 effective words) took 0.0s, 0 effective words/s\n",
      "2019-03-16 22:50:02,008 : INFO : worker thread finished; awaiting finish of 3 more threads\n",
      "2019-03-16 22:50:02,009 : INFO : worker thread finished; awaiting finish of 2 more threads\n",
      "2019-03-16 22:50:02,010 : INFO : worker thread finished; awaiting finish of 1 more threads\n",
      "2019-03-16 22:50:02,012 : INFO : worker thread finished; awaiting finish of 0 more threads\n",
      "2019-03-16 22:50:02,014 : INFO : EPOCH - 3 : training on 4 raw words (1 effective words) took 0.0s, 138 effective words/s\n",
      "2019-03-16 22:50:02,020 : INFO : worker thread finished; awaiting finish of 3 more threads\n",
      "2019-03-16 22:50:02,021 : INFO : worker thread finished; awaiting finish of 2 more threads\n",
      "2019-03-16 22:50:02,022 : INFO : worker thread finished; awaiting finish of 1 more threads\n",
      "2019-03-16 22:50:02,023 : INFO : worker thread finished; awaiting finish of 0 more threads\n",
      "2019-03-16 22:50:02,025 : INFO : EPOCH - 4 : training on 4 raw words (0 effective words) took 0.0s, 0 effective words/s\n",
      "2019-03-16 22:50:02,037 : INFO : worker thread finished; awaiting finish of 3 more threads\n",
      "2019-03-16 22:50:02,038 : INFO : worker thread finished; awaiting finish of 2 more threads\n",
      "2019-03-16 22:50:02,039 : INFO : worker thread finished; awaiting finish of 1 more threads\n",
      "2019-03-16 22:50:02,041 : INFO : worker thread finished; awaiting finish of 0 more threads\n",
      "2019-03-16 22:50:02,042 : INFO : EPOCH - 5 : training on 4 raw words (0 effective words) took 0.0s, 0 effective words/s\n",
      "2019-03-16 22:50:02,043 : INFO : training on a 20 raw words (1 effective words) took 0.1s, 13 effective words/s\n",
      "2019-03-16 22:50:02,046 : WARNING : under 10 jobs per worker: consider setting a smaller `batch_words' for smoother alpha decay\n"
     ]
    }
   ],
   "source": [
    "model = word2vec.Word2Vec(sentences, size=256, min_count=1, window=5, workers=4, sg=1)  \n",
    "\n",
    "# sg=0 表示COBW, sg=1 表示skip-gram"
   ]
  },
  {
   "cell_type": "code",
   "execution_count": 71,
   "metadata": {},
   "outputs": [
    {
     "name": "stdout",
     "output_type": "stream",
     "text": [
      "Word2Vec(vocab=3, size=256, alpha=0.025)\n"
     ]
    }
   ],
   "source": [
    "print(model)\n"
   ]
  },
  {
   "cell_type": "code",
   "execution_count": 73,
   "metadata": {
    "scrolled": true
   },
   "outputs": [
    {
     "name": "stderr",
     "output_type": "stream",
     "text": [
      "E:\\Anaconda3\\lib\\site-packages\\ipykernel_launcher.py:1: DeprecationWarning: Call to deprecated `similarity` (Method will be removed in 4.0.0, use self.wv.similarity() instead).\n",
      "  \"\"\"Entry point for launching an IPython kernel.\n"
     ]
    },
    {
     "data": {
      "text/plain": [
       "-0.039908044"
      ]
     },
     "execution_count": 73,
     "metadata": {},
     "output_type": "execute_result"
    }
   ],
   "source": [
    "model.similarity('I am a hero','She is a teacher')"
   ]
  },
  {
   "cell_type": "code",
   "execution_count": 40,
   "metadata": {},
   "outputs": [],
   "source": [
    "model.save('mymodel')  \n",
    "new_model = gensim.models.Word2Vec.load('mymodel')  "
   ]
  },
  {
   "cell_type": "code",
   "execution_count": null,
   "metadata": {},
   "outputs": [],
   "source": []
  }
 ],
 "metadata": {
  "kernelspec": {
   "display_name": "Python 3",
   "language": "python",
   "name": "python3"
  },
  "language_info": {
   "codemirror_mode": {
    "name": "ipython",
    "version": 3
   },
   "file_extension": ".py",
   "mimetype": "text/x-python",
   "name": "python",
   "nbconvert_exporter": "python",
   "pygments_lexer": "ipython3",
   "version": "3.7.0"
  }
 },
 "nbformat": 4,
 "nbformat_minor": 2
}
