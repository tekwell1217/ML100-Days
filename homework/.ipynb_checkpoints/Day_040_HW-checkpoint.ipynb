{
 "cells": [
  {
   "cell_type": "markdown",
   "metadata": {},
   "source": [
    "## 練習時間\n",
    "試著使用 sklearn datasets 的其他資料集 (boston, ...)，來訓練自己的線性迴歸模型，並加上適當的正則話來觀察訓練情形。"
   ]
  },
  {
   "cell_type": "code",
   "execution_count": 1,
   "metadata": {},
   "outputs": [],
   "source": [
    "import numpy as np\n",
    "import matplotlib.pyplot as plt\n",
    "from sklearn import datasets, linear_model\n",
    "from sklearn.model_selection import train_test_split\n",
    "from sklearn.metrics import mean_squared_error, r2_score"
   ]
  },
  {
   "cell_type": "code",
   "execution_count": 12,
   "metadata": {},
   "outputs": [],
   "source": [
    "diabetes = datasets.load_boston()"
   ]
  },
  {
   "cell_type": "code",
   "execution_count": 110,
   "metadata": {},
   "outputs": [
    {
     "data": {
      "text/plain": [
       "array([-1.15440934e-01,  5.28138251e-02,  2.51029461e-02,  2.15697708e+00,\n",
       "       -1.84532154e+01,  3.52887262e+00, -6.14282202e-03, -1.64528933e+00,\n",
       "        3.23664586e-01, -1.29569933e-02, -9.62027933e-01,  8.97013888e-03,\n",
       "       -5.24240407e-01])"
      ]
     },
     "execution_count": 110,
     "metadata": {},
     "output_type": "execute_result"
    }
   ],
   "source": [
    "#LinearRregression\n",
    "x_train, x_test, y_train, y_test = train_test_split(diabetes.data, diabetes.target,test_size = 0.1)\n",
    "lm = linear_model.LinearRegression()\n",
    "lm.fit(x_train, y_train)\n",
    "y_pred = lm.predict(x_test)\n",
    "lm.coef_"
   ]
  },
  {
   "cell_type": "code",
   "execution_count": 111,
   "metadata": {},
   "outputs": [
    {
     "data": {
      "text/plain": [
       "24.259561924668777"
      ]
     },
     "execution_count": 111,
     "metadata": {},
     "output_type": "execute_result"
    }
   ],
   "source": [
    "mean_squared_error(y_test, y_pred)"
   ]
  },
  {
   "cell_type": "code",
   "execution_count": 112,
   "metadata": {},
   "outputs": [
    {
     "data": {
      "text/plain": [
       "array([-0.07038515,  0.05985507, -0.        ,  0.        , -0.        ,\n",
       "        0.64496775,  0.0169313 , -0.74619609,  0.27300279, -0.01582556,\n",
       "       -0.7046086 ,  0.00747827, -0.76360474])"
      ]
     },
     "execution_count": 112,
     "metadata": {},
     "output_type": "execute_result"
    }
   ],
   "source": [
    "#Lasso\n",
    "lm_La = linear_model.Lasso(alpha=1.0)\n",
    "lm_La.fit(x_train, y_train)\n",
    "y_pred = lm_La.predict(x_test)\n",
    "lm_La.coef_"
   ]
  },
  {
   "cell_type": "code",
   "execution_count": 113,
   "metadata": {},
   "outputs": [
    {
     "data": {
      "text/plain": [
       "33.591564296874715"
      ]
     },
     "execution_count": 113,
     "metadata": {},
     "output_type": "execute_result"
    }
   ],
   "source": [
    "mean_squared_error(y_test, y_pred)"
   ]
  },
  {
   "cell_type": "code",
   "execution_count": 114,
   "metadata": {},
   "outputs": [
    {
     "data": {
      "text/plain": [
       "array([-1.10495632e-01,  5.45311064e-02, -7.92967629e-03,  2.08315020e+00,\n",
       "       -1.05942404e+01,  3.55529227e+00, -1.23176634e-02, -1.51868603e+00,\n",
       "        3.06019338e-01, -1.36963266e-02, -8.72159878e-01,  9.38050251e-03,\n",
       "       -5.36008744e-01])"
      ]
     },
     "execution_count": 114,
     "metadata": {},
     "output_type": "execute_result"
    }
   ],
   "source": [
    "#Ridge\n",
    "lm_Rd = linear_model.Ridge(alpha=1.0)\n",
    "lm_Rd.fit(x_train, y_train)\n",
    "y_pred = lm_Rd.predict(x_test)\n",
    "lm_Rd.coef_"
   ]
  },
  {
   "cell_type": "code",
   "execution_count": 115,
   "metadata": {},
   "outputs": [
    {
     "data": {
      "text/plain": [
       "24.19519307939887"
      ]
     },
     "execution_count": 115,
     "metadata": {},
     "output_type": "execute_result"
    }
   ],
   "source": [
    "mean_squared_error(y_test, y_pred)"
   ]
  },
  {
   "cell_type": "code",
   "execution_count": null,
   "metadata": {},
   "outputs": [],
   "source": []
  },
  {
   "cell_type": "code",
   "execution_count": null,
   "metadata": {},
   "outputs": [],
   "source": []
  }
 ],
 "metadata": {
  "kernelspec": {
   "display_name": "Python 3",
   "language": "python",
   "name": "python3"
  },
  "language_info": {
   "codemirror_mode": {
    "name": "ipython",
    "version": 3
   },
   "file_extension": ".py",
   "mimetype": "text/x-python",
   "name": "python",
   "nbconvert_exporter": "python",
   "pygments_lexer": "ipython3",
   "version": "3.7.0"
  }
 },
 "nbformat": 4,
 "nbformat_minor": 2
}
